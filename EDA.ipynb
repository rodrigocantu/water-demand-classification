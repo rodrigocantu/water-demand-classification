{
 "cells": [
  {
   "cell_type": "code",
   "execution_count": 2,
   "metadata": {},
   "outputs": [],
   "source": [
    "# PATH FOR DIFFERENT SYSTEMS\n",
    "# PASTE THE FIRST PART OF YOUR REQUIRED PATH\n",
    "\n",
    "# COMMENT OUT THE UNUSED PATHS\n",
    "\n",
    "# WINDOWS\n",
    "path = r'G:\\My Drive\\MCI\\Proyecto de Investigacion\\Documentation\\UC Davis\\Water Disaggregation Algorithm'"
   ]
  },
  {
   "cell_type": "markdown",
   "metadata": {},
   "source": [
    "# Section 1: *Exploratory Data Analysis and Data Preparation*"
   ]
  },
  {
   "cell_type": "markdown",
   "metadata": {},
   "source": [
    "# Exploratory Data Analysis"
   ]
  },
  {
   "cell_type": "code",
   "execution_count": 3,
   "metadata": {},
   "outputs": [],
   "source": [
    "# IMPORT THE ORIGINAL REU16 DATASETS. \n",
    "# DAILY\n",
    "daily_1 = pd.read_csv(path+'/1. EDA and Data Processing\\originals\\REU2016_Daily_Use_Main.csv')\n",
    "# HOURLY\n",
    "hourly_1 = pd.read_csv(path+\"/1. EDA and Data Processing\\originals\\Hourly Test Data - FOR DISTRIBUTION.csv\")"
   ]
  },
  {
   "cell_type": "markdown",
   "metadata": {},
   "source": [
    "### 1. Descriptive statistics"
   ]
  },
  {
   "cell_type": "code",
   "execution_count": 4,
   "metadata": {},
   "outputs": [
    {
     "data": {
      "text/html": [
       "<div>\n",
       "<style scoped>\n",
       "    .dataframe tbody tr th:only-of-type {\n",
       "        vertical-align: middle;\n",
       "    }\n",
       "\n",
       "    .dataframe tbody tr th {\n",
       "        vertical-align: top;\n",
       "    }\n",
       "\n",
       "    .dataframe thead th {\n",
       "        text-align: right;\n",
       "    }\n",
       "</style>\n",
       "<table border=\"1\" class=\"dataframe\">\n",
       "  <thead>\n",
       "    <tr style=\"text-align: right;\">\n",
       "      <th></th>\n",
       "      <th>Keycode</th>\n",
       "      <th>Month</th>\n",
       "      <th>Day</th>\n",
       "      <th>Year</th>\n",
       "      <th>Noise</th>\n",
       "      <th>Bathtub</th>\n",
       "      <th>Clotheswasher</th>\n",
       "      <th>Cooler</th>\n",
       "      <th>Dishwasher</th>\n",
       "      <th>Faucet</th>\n",
       "      <th>Humidifier</th>\n",
       "      <th>Irrigation</th>\n",
       "      <th>Leak</th>\n",
       "      <th>Other</th>\n",
       "      <th>Pool</th>\n",
       "      <th>Shower</th>\n",
       "      <th>Toilet</th>\n",
       "      <th>Treatment</th>\n",
       "      <th>INDOOR</th>\n",
       "      <th>OUTDOOR</th>\n",
       "      <th>TOTAL</th>\n",
       "    </tr>\n",
       "  </thead>\n",
       "  <tbody>\n",
       "    <tr>\n",
       "      <th>0</th>\n",
       "      <td>12S1003</td>\n",
       "      <td>10</td>\n",
       "      <td>26</td>\n",
       "      <td>2012</td>\n",
       "      <td>0.0</td>\n",
       "      <td>0.0</td>\n",
       "      <td>0.00</td>\n",
       "      <td>0.0</td>\n",
       "      <td>6.27</td>\n",
       "      <td>44.25</td>\n",
       "      <td>0.0</td>\n",
       "      <td>0.0</td>\n",
       "      <td>4.39</td>\n",
       "      <td>0.0</td>\n",
       "      <td>0.0</td>\n",
       "      <td>18.10</td>\n",
       "      <td>45.40</td>\n",
       "      <td>0.0</td>\n",
       "      <td>118.40</td>\n",
       "      <td>0.0</td>\n",
       "      <td>118.40</td>\n",
       "    </tr>\n",
       "    <tr>\n",
       "      <th>1</th>\n",
       "      <td>12S1003</td>\n",
       "      <td>10</td>\n",
       "      <td>27</td>\n",
       "      <td>2012</td>\n",
       "      <td>0.0</td>\n",
       "      <td>0.0</td>\n",
       "      <td>0.00</td>\n",
       "      <td>0.0</td>\n",
       "      <td>0.00</td>\n",
       "      <td>23.69</td>\n",
       "      <td>0.0</td>\n",
       "      <td>0.0</td>\n",
       "      <td>1.71</td>\n",
       "      <td>0.0</td>\n",
       "      <td>0.0</td>\n",
       "      <td>7.77</td>\n",
       "      <td>30.25</td>\n",
       "      <td>0.0</td>\n",
       "      <td>63.42</td>\n",
       "      <td>0.0</td>\n",
       "      <td>63.42</td>\n",
       "    </tr>\n",
       "    <tr>\n",
       "      <th>2</th>\n",
       "      <td>12S1003</td>\n",
       "      <td>10</td>\n",
       "      <td>28</td>\n",
       "      <td>2012</td>\n",
       "      <td>0.0</td>\n",
       "      <td>0.0</td>\n",
       "      <td>80.85</td>\n",
       "      <td>0.0</td>\n",
       "      <td>5.52</td>\n",
       "      <td>43.22</td>\n",
       "      <td>0.0</td>\n",
       "      <td>0.0</td>\n",
       "      <td>3.43</td>\n",
       "      <td>0.0</td>\n",
       "      <td>0.0</td>\n",
       "      <td>0.00</td>\n",
       "      <td>53.24</td>\n",
       "      <td>0.0</td>\n",
       "      <td>186.26</td>\n",
       "      <td>0.0</td>\n",
       "      <td>186.26</td>\n",
       "    </tr>\n",
       "    <tr>\n",
       "      <th>3</th>\n",
       "      <td>12S1003</td>\n",
       "      <td>10</td>\n",
       "      <td>29</td>\n",
       "      <td>2012</td>\n",
       "      <td>0.0</td>\n",
       "      <td>0.0</td>\n",
       "      <td>0.00</td>\n",
       "      <td>0.0</td>\n",
       "      <td>6.14</td>\n",
       "      <td>32.30</td>\n",
       "      <td>0.0</td>\n",
       "      <td>0.0</td>\n",
       "      <td>4.54</td>\n",
       "      <td>0.0</td>\n",
       "      <td>0.0</td>\n",
       "      <td>17.63</td>\n",
       "      <td>47.68</td>\n",
       "      <td>0.0</td>\n",
       "      <td>108.28</td>\n",
       "      <td>0.0</td>\n",
       "      <td>108.28</td>\n",
       "    </tr>\n",
       "    <tr>\n",
       "      <th>4</th>\n",
       "      <td>12S1003</td>\n",
       "      <td>10</td>\n",
       "      <td>30</td>\n",
       "      <td>2012</td>\n",
       "      <td>0.0</td>\n",
       "      <td>0.0</td>\n",
       "      <td>0.00</td>\n",
       "      <td>0.0</td>\n",
       "      <td>0.00</td>\n",
       "      <td>46.23</td>\n",
       "      <td>0.0</td>\n",
       "      <td>0.0</td>\n",
       "      <td>4.54</td>\n",
       "      <td>0.0</td>\n",
       "      <td>0.0</td>\n",
       "      <td>24.21</td>\n",
       "      <td>38.74</td>\n",
       "      <td>0.0</td>\n",
       "      <td>113.72</td>\n",
       "      <td>0.0</td>\n",
       "      <td>113.72</td>\n",
       "    </tr>\n",
       "  </tbody>\n",
       "</table>\n",
       "</div>"
      ],
      "text/plain": [
       "   Keycode  Month  Day  Year  Noise  Bathtub  Clotheswasher  Cooler  \\\n",
       "0  12S1003     10   26  2012    0.0      0.0           0.00     0.0   \n",
       "1  12S1003     10   27  2012    0.0      0.0           0.00     0.0   \n",
       "2  12S1003     10   28  2012    0.0      0.0          80.85     0.0   \n",
       "3  12S1003     10   29  2012    0.0      0.0           0.00     0.0   \n",
       "4  12S1003     10   30  2012    0.0      0.0           0.00     0.0   \n",
       "\n",
       "   Dishwasher  Faucet  Humidifier  Irrigation  Leak  Other  Pool  Shower  \\\n",
       "0        6.27   44.25         0.0         0.0  4.39    0.0   0.0   18.10   \n",
       "1        0.00   23.69         0.0         0.0  1.71    0.0   0.0    7.77   \n",
       "2        5.52   43.22         0.0         0.0  3.43    0.0   0.0    0.00   \n",
       "3        6.14   32.30         0.0         0.0  4.54    0.0   0.0   17.63   \n",
       "4        0.00   46.23         0.0         0.0  4.54    0.0   0.0   24.21   \n",
       "\n",
       "   Toilet  Treatment  INDOOR  OUTDOOR   TOTAL  \n",
       "0   45.40        0.0  118.40      0.0  118.40  \n",
       "1   30.25        0.0   63.42      0.0   63.42  \n",
       "2   53.24        0.0  186.26      0.0  186.26  \n",
       "3   47.68        0.0  108.28      0.0  108.28  \n",
       "4   38.74        0.0  113.72      0.0  113.72  "
      ]
     },
     "execution_count": 4,
     "metadata": {},
     "output_type": "execute_result"
    }
   ],
   "source": [
    "# PRINT A SAMPLE OF THE DATA.\n",
    "daily_1.head(5)"
   ]
  },
  {
   "cell_type": "code",
   "execution_count": 5,
   "metadata": {},
   "outputs": [
    {
     "data": {
      "text/html": [
       "<div>\n",
       "<style scoped>\n",
       "    .dataframe tbody tr th:only-of-type {\n",
       "        vertical-align: middle;\n",
       "    }\n",
       "\n",
       "    .dataframe tbody tr th {\n",
       "        vertical-align: top;\n",
       "    }\n",
       "\n",
       "    .dataframe thead th {\n",
       "        text-align: right;\n",
       "    }\n",
       "</style>\n",
       "<table border=\"1\" class=\"dataframe\">\n",
       "  <thead>\n",
       "    <tr style=\"text-align: right;\">\n",
       "      <th></th>\n",
       "      <th>Keycode</th>\n",
       "      <th>Date</th>\n",
       "      <th>Hour</th>\n",
       "      <th>TOTAL (GAL/HOUR)</th>\n",
       "    </tr>\n",
       "  </thead>\n",
       "  <tbody>\n",
       "    <tr>\n",
       "      <th>0</th>\n",
       "      <td>12S1003</td>\n",
       "      <td>26-Oct-12</td>\n",
       "      <td>3</td>\n",
       "      <td>4.1</td>\n",
       "    </tr>\n",
       "    <tr>\n",
       "      <th>1</th>\n",
       "      <td>12S1003</td>\n",
       "      <td>26-Oct-12</td>\n",
       "      <td>4</td>\n",
       "      <td>0.1</td>\n",
       "    </tr>\n",
       "    <tr>\n",
       "      <th>2</th>\n",
       "      <td>12S1003</td>\n",
       "      <td>26-Oct-12</td>\n",
       "      <td>5</td>\n",
       "      <td>2.0</td>\n",
       "    </tr>\n",
       "    <tr>\n",
       "      <th>3</th>\n",
       "      <td>12S1003</td>\n",
       "      <td>26-Oct-12</td>\n",
       "      <td>6</td>\n",
       "      <td>22.4</td>\n",
       "    </tr>\n",
       "    <tr>\n",
       "      <th>4</th>\n",
       "      <td>12S1003</td>\n",
       "      <td>26-Oct-12</td>\n",
       "      <td>7</td>\n",
       "      <td>6.7</td>\n",
       "    </tr>\n",
       "  </tbody>\n",
       "</table>\n",
       "</div>"
      ],
      "text/plain": [
       "   Keycode       Date  Hour  TOTAL (GAL/HOUR)\n",
       "0  12S1003  26-Oct-12     3               4.1\n",
       "1  12S1003  26-Oct-12     4               0.1\n",
       "2  12S1003  26-Oct-12     5               2.0\n",
       "3  12S1003  26-Oct-12     6              22.4\n",
       "4  12S1003  26-Oct-12     7               6.7"
      ]
     },
     "execution_count": 5,
     "metadata": {},
     "output_type": "execute_result"
    }
   ],
   "source": [
    "hourly_1.head(5)"
   ]
  },
  {
   "cell_type": "code",
   "execution_count": 6,
   "metadata": {},
   "outputs": [
    {
     "data": {
      "text/html": [
       "<div>\n",
       "<style scoped>\n",
       "    .dataframe tbody tr th:only-of-type {\n",
       "        vertical-align: middle;\n",
       "    }\n",
       "\n",
       "    .dataframe tbody tr th {\n",
       "        vertical-align: top;\n",
       "    }\n",
       "\n",
       "    .dataframe thead th {\n",
       "        text-align: right;\n",
       "    }\n",
       "</style>\n",
       "<table border=\"1\" class=\"dataframe\">\n",
       "  <thead>\n",
       "    <tr style=\"text-align: right;\">\n",
       "      <th></th>\n",
       "      <th>Month</th>\n",
       "      <th>Day</th>\n",
       "      <th>Year</th>\n",
       "      <th>Noise</th>\n",
       "      <th>Bathtub</th>\n",
       "      <th>Clotheswasher</th>\n",
       "      <th>Cooler</th>\n",
       "      <th>Dishwasher</th>\n",
       "      <th>Faucet</th>\n",
       "      <th>Humidifier</th>\n",
       "      <th>Irrigation</th>\n",
       "      <th>Leak</th>\n",
       "      <th>Other</th>\n",
       "      <th>Pool</th>\n",
       "      <th>Shower</th>\n",
       "      <th>Toilet</th>\n",
       "      <th>Treatment</th>\n",
       "      <th>INDOOR</th>\n",
       "      <th>OUTDOOR</th>\n",
       "      <th>TOTAL</th>\n",
       "    </tr>\n",
       "  </thead>\n",
       "  <tbody>\n",
       "    <tr>\n",
       "      <th>count</th>\n",
       "      <td>9613.000000</td>\n",
       "      <td>9613.000000</td>\n",
       "      <td>9613.000000</td>\n",
       "      <td>9.613000e+03</td>\n",
       "      <td>9613.000000</td>\n",
       "      <td>9613.000000</td>\n",
       "      <td>9613.000000</td>\n",
       "      <td>9613.000000</td>\n",
       "      <td>9613.000000</td>\n",
       "      <td>9613.000000</td>\n",
       "      <td>9613.000000</td>\n",
       "      <td>9613.000000</td>\n",
       "      <td>9613.000000</td>\n",
       "      <td>9613.000000</td>\n",
       "      <td>9613.000000</td>\n",
       "      <td>9613.000000</td>\n",
       "      <td>9613.000000</td>\n",
       "      <td>9613.000000</td>\n",
       "      <td>9613.000000</td>\n",
       "      <td>9613.000000</td>\n",
       "    </tr>\n",
       "    <tr>\n",
       "      <th>mean</th>\n",
       "      <td>6.140227</td>\n",
       "      <td>17.267450</td>\n",
       "      <td>2012.129824</td>\n",
       "      <td>2.928683e+03</td>\n",
       "      <td>3.664086</td>\n",
       "      <td>22.590896</td>\n",
       "      <td>0.004733</td>\n",
       "      <td>1.594715</td>\n",
       "      <td>26.460346</td>\n",
       "      <td>0.153413</td>\n",
       "      <td>93.924296</td>\n",
       "      <td>17.053897</td>\n",
       "      <td>4.987856</td>\n",
       "      <td>2.453851</td>\n",
       "      <td>28.269213</td>\n",
       "      <td>33.106359</td>\n",
       "      <td>0.006794</td>\n",
       "      <td>137.890654</td>\n",
       "      <td>96.378142</td>\n",
       "      <td>234.268691</td>\n",
       "    </tr>\n",
       "    <tr>\n",
       "      <th>std</th>\n",
       "      <td>3.251796</td>\n",
       "      <td>9.524774</td>\n",
       "      <td>0.336127</td>\n",
       "      <td>8.008299e+04</td>\n",
       "      <td>11.873796</td>\n",
       "      <td>40.438584</td>\n",
       "      <td>0.149302</td>\n",
       "      <td>3.173492</td>\n",
       "      <td>25.353195</td>\n",
       "      <td>1.715463</td>\n",
       "      <td>401.416935</td>\n",
       "      <td>45.582222</td>\n",
       "      <td>24.034574</td>\n",
       "      <td>107.321464</td>\n",
       "      <td>29.574877</td>\n",
       "      <td>25.454027</td>\n",
       "      <td>0.666117</td>\n",
       "      <td>99.368726</td>\n",
       "      <td>419.426089</td>\n",
       "      <td>436.673959</td>\n",
       "    </tr>\n",
       "    <tr>\n",
       "      <th>min</th>\n",
       "      <td>1.000000</td>\n",
       "      <td>1.000000</td>\n",
       "      <td>2012.000000</td>\n",
       "      <td>0.000000e+00</td>\n",
       "      <td>0.000000</td>\n",
       "      <td>0.000000</td>\n",
       "      <td>0.000000</td>\n",
       "      <td>0.000000</td>\n",
       "      <td>0.000000</td>\n",
       "      <td>0.000000</td>\n",
       "      <td>0.000000</td>\n",
       "      <td>0.000000</td>\n",
       "      <td>0.000000</td>\n",
       "      <td>0.000000</td>\n",
       "      <td>0.000000</td>\n",
       "      <td>0.000000</td>\n",
       "      <td>0.000000</td>\n",
       "      <td>0.000000</td>\n",
       "      <td>0.000000</td>\n",
       "      <td>0.000000</td>\n",
       "    </tr>\n",
       "    <tr>\n",
       "      <th>25%</th>\n",
       "      <td>3.000000</td>\n",
       "      <td>8.000000</td>\n",
       "      <td>2012.000000</td>\n",
       "      <td>0.000000e+00</td>\n",
       "      <td>0.000000</td>\n",
       "      <td>0.000000</td>\n",
       "      <td>0.000000</td>\n",
       "      <td>0.000000</td>\n",
       "      <td>10.740000</td>\n",
       "      <td>0.000000</td>\n",
       "      <td>0.000000</td>\n",
       "      <td>1.100000</td>\n",
       "      <td>0.000000</td>\n",
       "      <td>0.000000</td>\n",
       "      <td>6.330000</td>\n",
       "      <td>15.930000</td>\n",
       "      <td>0.000000</td>\n",
       "      <td>68.590000</td>\n",
       "      <td>0.000000</td>\n",
       "      <td>76.490000</td>\n",
       "    </tr>\n",
       "    <tr>\n",
       "      <th>50%</th>\n",
       "      <td>6.000000</td>\n",
       "      <td>19.000000</td>\n",
       "      <td>2012.000000</td>\n",
       "      <td>0.000000e+00</td>\n",
       "      <td>0.000000</td>\n",
       "      <td>0.000000</td>\n",
       "      <td>0.000000</td>\n",
       "      <td>0.000000</td>\n",
       "      <td>20.460000</td>\n",
       "      <td>0.000000</td>\n",
       "      <td>0.000000</td>\n",
       "      <td>3.700000</td>\n",
       "      <td>0.000000</td>\n",
       "      <td>0.000000</td>\n",
       "      <td>20.260000</td>\n",
       "      <td>27.760000</td>\n",
       "      <td>0.000000</td>\n",
       "      <td>117.300000</td>\n",
       "      <td>0.000000</td>\n",
       "      <td>134.250000</td>\n",
       "    </tr>\n",
       "    <tr>\n",
       "      <th>75%</th>\n",
       "      <td>9.000000</td>\n",
       "      <td>26.000000</td>\n",
       "      <td>2012.000000</td>\n",
       "      <td>0.000000e+00</td>\n",
       "      <td>0.000000</td>\n",
       "      <td>34.590000</td>\n",
       "      <td>0.000000</td>\n",
       "      <td>0.000000</td>\n",
       "      <td>35.000000</td>\n",
       "      <td>0.000000</td>\n",
       "      <td>0.000000</td>\n",
       "      <td>13.790000</td>\n",
       "      <td>0.000000</td>\n",
       "      <td>0.000000</td>\n",
       "      <td>41.030000</td>\n",
       "      <td>44.310000</td>\n",
       "      <td>0.000000</td>\n",
       "      <td>183.160000</td>\n",
       "      <td>0.000000</td>\n",
       "      <td>226.950000</td>\n",
       "    </tr>\n",
       "    <tr>\n",
       "      <th>max</th>\n",
       "      <td>11.000000</td>\n",
       "      <td>31.000000</td>\n",
       "      <td>2013.000000</td>\n",
       "      <td>2.485013e+06</td>\n",
       "      <td>229.760000</td>\n",
       "      <td>494.760000</td>\n",
       "      <td>6.950000</td>\n",
       "      <td>25.330000</td>\n",
       "      <td>464.280000</td>\n",
       "      <td>58.560000</td>\n",
       "      <td>11423.360000</td>\n",
       "      <td>1119.570000</td>\n",
       "      <td>662.950000</td>\n",
       "      <td>9958.980000</td>\n",
       "      <td>279.210000</td>\n",
       "      <td>302.530000</td>\n",
       "      <td>65.310000</td>\n",
       "      <td>1306.640000</td>\n",
       "      <td>11423.360000</td>\n",
       "      <td>11577.630000</td>\n",
       "    </tr>\n",
       "  </tbody>\n",
       "</table>\n",
       "</div>"
      ],
      "text/plain": [
       "             Month          Day         Year         Noise      Bathtub  \\\n",
       "count  9613.000000  9613.000000  9613.000000  9.613000e+03  9613.000000   \n",
       "mean      6.140227    17.267450  2012.129824  2.928683e+03     3.664086   \n",
       "std       3.251796     9.524774     0.336127  8.008299e+04    11.873796   \n",
       "min       1.000000     1.000000  2012.000000  0.000000e+00     0.000000   \n",
       "25%       3.000000     8.000000  2012.000000  0.000000e+00     0.000000   \n",
       "50%       6.000000    19.000000  2012.000000  0.000000e+00     0.000000   \n",
       "75%       9.000000    26.000000  2012.000000  0.000000e+00     0.000000   \n",
       "max      11.000000    31.000000  2013.000000  2.485013e+06   229.760000   \n",
       "\n",
       "       Clotheswasher       Cooler   Dishwasher       Faucet   Humidifier  \\\n",
       "count    9613.000000  9613.000000  9613.000000  9613.000000  9613.000000   \n",
       "mean       22.590896     0.004733     1.594715    26.460346     0.153413   \n",
       "std        40.438584     0.149302     3.173492    25.353195     1.715463   \n",
       "min         0.000000     0.000000     0.000000     0.000000     0.000000   \n",
       "25%         0.000000     0.000000     0.000000    10.740000     0.000000   \n",
       "50%         0.000000     0.000000     0.000000    20.460000     0.000000   \n",
       "75%        34.590000     0.000000     0.000000    35.000000     0.000000   \n",
       "max       494.760000     6.950000    25.330000   464.280000    58.560000   \n",
       "\n",
       "         Irrigation         Leak        Other         Pool       Shower  \\\n",
       "count   9613.000000  9613.000000  9613.000000  9613.000000  9613.000000   \n",
       "mean      93.924296    17.053897     4.987856     2.453851    28.269213   \n",
       "std      401.416935    45.582222    24.034574   107.321464    29.574877   \n",
       "min        0.000000     0.000000     0.000000     0.000000     0.000000   \n",
       "25%        0.000000     1.100000     0.000000     0.000000     6.330000   \n",
       "50%        0.000000     3.700000     0.000000     0.000000    20.260000   \n",
       "75%        0.000000    13.790000     0.000000     0.000000    41.030000   \n",
       "max    11423.360000  1119.570000   662.950000  9958.980000   279.210000   \n",
       "\n",
       "            Toilet    Treatment       INDOOR       OUTDOOR         TOTAL  \n",
       "count  9613.000000  9613.000000  9613.000000   9613.000000   9613.000000  \n",
       "mean     33.106359     0.006794   137.890654     96.378142    234.268691  \n",
       "std      25.454027     0.666117    99.368726    419.426089    436.673959  \n",
       "min       0.000000     0.000000     0.000000      0.000000      0.000000  \n",
       "25%      15.930000     0.000000    68.590000      0.000000     76.490000  \n",
       "50%      27.760000     0.000000   117.300000      0.000000    134.250000  \n",
       "75%      44.310000     0.000000   183.160000      0.000000    226.950000  \n",
       "max     302.530000    65.310000  1306.640000  11423.360000  11577.630000  "
      ]
     },
     "execution_count": 6,
     "metadata": {},
     "output_type": "execute_result"
    }
   ],
   "source": [
    "daily_1.describe()"
   ]
  },
  {
   "cell_type": "code",
   "execution_count": 7,
   "metadata": {},
   "outputs": [
    {
     "data": {
      "text/html": [
       "<div>\n",
       "<style scoped>\n",
       "    .dataframe tbody tr th:only-of-type {\n",
       "        vertical-align: middle;\n",
       "    }\n",
       "\n",
       "    .dataframe tbody tr th {\n",
       "        vertical-align: top;\n",
       "    }\n",
       "\n",
       "    .dataframe thead th {\n",
       "        text-align: right;\n",
       "    }\n",
       "</style>\n",
       "<table border=\"1\" class=\"dataframe\">\n",
       "  <thead>\n",
       "    <tr style=\"text-align: right;\">\n",
       "      <th></th>\n",
       "      <th>Hour</th>\n",
       "      <th>TOTAL (GAL/HOUR)</th>\n",
       "    </tr>\n",
       "  </thead>\n",
       "  <tbody>\n",
       "    <tr>\n",
       "      <th>count</th>\n",
       "      <td>103988.000000</td>\n",
       "      <td>103988.000000</td>\n",
       "    </tr>\n",
       "    <tr>\n",
       "      <th>mean</th>\n",
       "      <td>12.233027</td>\n",
       "      <td>15.646568</td>\n",
       "    </tr>\n",
       "    <tr>\n",
       "      <th>std</th>\n",
       "      <td>6.664060</td>\n",
       "      <td>306.096542</td>\n",
       "    </tr>\n",
       "    <tr>\n",
       "      <th>min</th>\n",
       "      <td>0.000000</td>\n",
       "      <td>0.000000</td>\n",
       "    </tr>\n",
       "    <tr>\n",
       "      <th>25%</th>\n",
       "      <td>7.000000</td>\n",
       "      <td>1.300000</td>\n",
       "    </tr>\n",
       "    <tr>\n",
       "      <th>50%</th>\n",
       "      <td>12.000000</td>\n",
       "      <td>4.200000</td>\n",
       "    </tr>\n",
       "    <tr>\n",
       "      <th>75%</th>\n",
       "      <td>18.000000</td>\n",
       "      <td>10.100000</td>\n",
       "    </tr>\n",
       "    <tr>\n",
       "      <th>max</th>\n",
       "      <td>23.000000</td>\n",
       "      <td>57834.600000</td>\n",
       "    </tr>\n",
       "  </tbody>\n",
       "</table>\n",
       "</div>"
      ],
      "text/plain": [
       "                Hour  TOTAL (GAL/HOUR)\n",
       "count  103988.000000     103988.000000\n",
       "mean       12.233027         15.646568\n",
       "std         6.664060        306.096542\n",
       "min         0.000000          0.000000\n",
       "25%         7.000000          1.300000\n",
       "50%        12.000000          4.200000\n",
       "75%        18.000000         10.100000\n",
       "max        23.000000      57834.600000"
      ]
     },
     "execution_count": 7,
     "metadata": {},
     "output_type": "execute_result"
    }
   ],
   "source": [
    "hourly_1.describe()"
   ]
  },
  {
   "cell_type": "markdown",
   "metadata": {},
   "source": [
    "### There are two datasets. The datasets partially share the **\"Keycode\"** attribute. Each keycode represents a different household."
   ]
  },
  {
   "cell_type": "code",
   "execution_count": 8,
   "metadata": {},
   "outputs": [
    {
     "name": "stdout",
     "output_type": "stream",
     "text": [
      "Keycodes in daily dataset:  763\n",
      "Keycodes in hourly dataset:  448\n"
     ]
    }
   ],
   "source": [
    "# COUNT THE DIFFERENT UNIQUE INSTANCES OF EACH KEYCODE IN EACH DATASET.\n",
    "keycodes1 = daily_1['Keycode'].unique()\n",
    "keycodes2 = hourly_1['Keycode'].unique()\n",
    "\n",
    "print(\"Keycodes in daily dataset: \", len(keycodes1))\n",
    "print(\"Keycodes in hourly dataset: \", len(keycodes2))"
   ]
  },
  {
   "cell_type": "markdown",
   "metadata": {},
   "source": [
    "### They don't have the same number of unique keycodes. There are more keycodes in the daily dataset than in the hourly one. This means that there are only **448** keycodes to work with in both datasets. \n",
    "\n",
    "### Therefore, the daily dataset will be filtered so that only the matching keycodes from the hourly dataset remain. "
   ]
  },
  {
   "cell_type": "code",
   "execution_count": 9,
   "metadata": {},
   "outputs": [
    {
     "name": "stdout",
     "output_type": "stream",
     "text": [
      "Keycodes in daily dataset:  448\n",
      "Keycodes in hourly dataset:  448\n"
     ]
    }
   ],
   "source": [
    "# FILTER THE DAILY DATASET.\n",
    "daily_2 = daily_1[daily_1.Keycode.isin(keycodes2)]\n",
    "print(\"Keycodes in daily dataset: \", len(daily_2['Keycode'].unique()))\n",
    "print(\"Keycodes in hourly dataset: \", len(hourly_1['Keycode'].unique()))"
   ]
  },
  {
   "cell_type": "markdown",
   "metadata": {},
   "source": [
    "### How many instances without **outdoor** water usage?"
   ]
  },
  {
   "cell_type": "code",
   "execution_count": 10,
   "metadata": {},
   "outputs": [
    {
     "name": "stdout",
     "output_type": "stream",
     "text": [
      "The 83.10308182784271 % of the rows don't have outdoor water usage.\n"
     ]
    }
   ],
   "source": [
    "print(\"The\", (len(daily_2[daily_2['OUTDOOR'] == 0])/len(daily_2))*100, \"% of the rows don't have outdoor water usage.\")"
   ]
  },
  {
   "cell_type": "markdown",
   "metadata": {},
   "source": [
    "### How many instances without **indoor** water usage?"
   ]
  },
  {
   "cell_type": "code",
   "execution_count": 11,
   "metadata": {},
   "outputs": [
    {
     "name": "stdout",
     "output_type": "stream",
     "text": [
      "The 0.33652143110166494 % of the rows don't have indoor water usage.\n"
     ]
    }
   ],
   "source": [
    "print(\"The\", (len(daily_2[daily_2['INDOOR'] == 0])/len(daily_2))*100, \"% of the rows don't have indoor water usage.\")"
   ]
  },
  {
   "cell_type": "markdown",
   "metadata": {},
   "source": [
    "### How many instances with both **indoor** and **outdoor**?"
   ]
  },
  {
   "cell_type": "code",
   "execution_count": 12,
   "metadata": {},
   "outputs": [
    {
     "name": "stdout",
     "output_type": "stream",
     "text": [
      "The 16.896918172157278 % of the rows have both indoor and outdoor water usage.\n"
     ]
    }
   ],
   "source": [
    "print(\"The\", (len(daily_2[daily_2['INDOOR' and 'OUTDOOR'] != 0])/len(daily_2))*100, \"% of the rows have both indoor and outdoor water usage.\")"
   ]
  },
  {
   "cell_type": "markdown",
   "metadata": {},
   "source": [
    "### There are significantly less missing data for the **indoor** water usage than for the **outdoor**. "
   ]
  },
  {
   "cell_type": "markdown",
   "metadata": {},
   "source": [
    "### So, we remove the instances where the **Irrigation** is zero."
   ]
  },
  {
   "cell_type": "code",
   "execution_count": 13,
   "metadata": {},
   "outputs": [
    {
     "name": "stdout",
     "output_type": "stream",
     "text": [
      "The 0.0 % of the rows don't have outdoor water usage.\n"
     ]
    }
   ],
   "source": [
    "daily_3 = daily_2[daily_2['Irrigation'] > 0]\n",
    "print(\"The\", (len(daily_3[daily_3['OUTDOOR'] == 0])/len(daily_3))*100, \"% of the rows don't have outdoor water usage.\")"
   ]
  },
  {
   "cell_type": "markdown",
   "metadata": {},
   "source": [
    "### As we can see, the irrigation is the main usage of the outdoor water demand. "
   ]
  },
  {
   "cell_type": "markdown",
   "metadata": {},
   "source": [
    "### However, we can see that from the initial **448** matching keycodes, only **193** have **Irrigation**."
   ]
  },
  {
   "cell_type": "code",
   "execution_count": 14,
   "metadata": {},
   "outputs": [
    {
     "name": "stdout",
     "output_type": "stream",
     "text": [
      "Keycodes in daily dataset:  193\n"
     ]
    }
   ],
   "source": [
    "# FILTER THE NEW MONTHLY DATASET.\n",
    "daily_4 = daily_3[daily_3.Keycode.isin(keycodes2)]\n",
    "print(\"Keycodes in daily dataset: \", len(daily_4['Keycode'].unique()))"
   ]
  },
  {
   "cell_type": "markdown",
   "metadata": {},
   "source": [
    "### So, we filter the hourly dataset too. "
   ]
  },
  {
   "cell_type": "code",
   "execution_count": 15,
   "metadata": {},
   "outputs": [
    {
     "name": "stdout",
     "output_type": "stream",
     "text": [
      "Keycodes in hourly dataset:  193\n"
     ]
    }
   ],
   "source": [
    "keycodes3 = daily_4['Keycode'].unique()\n",
    "hourly_2 = hourly_1[hourly_1.Keycode.isin(keycodes3)]\n",
    "print(\"Keycodes in hourly dataset: \", len(hourly_2['Keycode'].unique()))"
   ]
  },
  {
   "cell_type": "markdown",
   "metadata": {},
   "source": [
    "## **But, how do we know that the keycodes match exactly?**"
   ]
  },
  {
   "cell_type": "markdown",
   "metadata": {},
   "source": [
    "### To do this, we will merge the keycode with the date to make a unique ID. The idea is that if the keycodes and dates match, the sum of all the hours for that keycode and date will be equal to the daily total water usage. Basically, to match each user and date across the two datasets."
   ]
  },
  {
   "cell_type": "markdown",
   "metadata": {},
   "source": [
    "### But first we need two things:\n",
    "1. Normalize the dates. \n",
    "2. Prepare the datasets for matching. "
   ]
  },
  {
   "cell_type": "markdown",
   "metadata": {},
   "source": [
    "### 1. Normalize the dates."
   ]
  },
  {
   "cell_type": "code",
   "execution_count": 16,
   "metadata": {},
   "outputs": [
    {
     "data": {
      "text/html": [
       "<div>\n",
       "<style scoped>\n",
       "    .dataframe tbody tr th:only-of-type {\n",
       "        vertical-align: middle;\n",
       "    }\n",
       "\n",
       "    .dataframe tbody tr th {\n",
       "        vertical-align: top;\n",
       "    }\n",
       "\n",
       "    .dataframe thead th {\n",
       "        text-align: right;\n",
       "    }\n",
       "</style>\n",
       "<table border=\"1\" class=\"dataframe\">\n",
       "  <thead>\n",
       "    <tr style=\"text-align: right;\">\n",
       "      <th></th>\n",
       "      <th>Keycode</th>\n",
       "      <th>Month</th>\n",
       "      <th>Day</th>\n",
       "      <th>Year</th>\n",
       "      <th>Noise</th>\n",
       "      <th>Bathtub</th>\n",
       "      <th>Clotheswasher</th>\n",
       "      <th>Cooler</th>\n",
       "      <th>Dishwasher</th>\n",
       "      <th>Faucet</th>\n",
       "      <th>Humidifier</th>\n",
       "      <th>Irrigation</th>\n",
       "      <th>Leak</th>\n",
       "      <th>Other</th>\n",
       "      <th>Pool</th>\n",
       "      <th>Shower</th>\n",
       "      <th>Toilet</th>\n",
       "      <th>Treatment</th>\n",
       "      <th>INDOOR</th>\n",
       "      <th>OUTDOOR</th>\n",
       "      <th>TOTAL</th>\n",
       "    </tr>\n",
       "  </thead>\n",
       "  <tbody>\n",
       "    <tr>\n",
       "      <th>1903</th>\n",
       "      <td>12S131</td>\n",
       "      <td>2</td>\n",
       "      <td>28</td>\n",
       "      <td>2012</td>\n",
       "      <td>0.00</td>\n",
       "      <td>0.0</td>\n",
       "      <td>0.00</td>\n",
       "      <td>0.0</td>\n",
       "      <td>11.04</td>\n",
       "      <td>21.66</td>\n",
       "      <td>0.0</td>\n",
       "      <td>62.39</td>\n",
       "      <td>0.00</td>\n",
       "      <td>0.0</td>\n",
       "      <td>0.0</td>\n",
       "      <td>47.25</td>\n",
       "      <td>32.01</td>\n",
       "      <td>0.0</td>\n",
       "      <td>111.96</td>\n",
       "      <td>62.39</td>\n",
       "      <td>174.34</td>\n",
       "    </tr>\n",
       "    <tr>\n",
       "      <th>1905</th>\n",
       "      <td>12S131</td>\n",
       "      <td>3</td>\n",
       "      <td>1</td>\n",
       "      <td>2012</td>\n",
       "      <td>0.00</td>\n",
       "      <td>0.0</td>\n",
       "      <td>0.00</td>\n",
       "      <td>0.0</td>\n",
       "      <td>0.00</td>\n",
       "      <td>8.19</td>\n",
       "      <td>0.0</td>\n",
       "      <td>65.91</td>\n",
       "      <td>2.62</td>\n",
       "      <td>0.0</td>\n",
       "      <td>0.0</td>\n",
       "      <td>67.78</td>\n",
       "      <td>26.20</td>\n",
       "      <td>0.0</td>\n",
       "      <td>104.79</td>\n",
       "      <td>65.91</td>\n",
       "      <td>170.70</td>\n",
       "    </tr>\n",
       "    <tr>\n",
       "      <th>1908</th>\n",
       "      <td>12S131</td>\n",
       "      <td>3</td>\n",
       "      <td>4</td>\n",
       "      <td>2012</td>\n",
       "      <td>0.00</td>\n",
       "      <td>0.0</td>\n",
       "      <td>142.62</td>\n",
       "      <td>0.0</td>\n",
       "      <td>10.42</td>\n",
       "      <td>51.51</td>\n",
       "      <td>0.0</td>\n",
       "      <td>76.99</td>\n",
       "      <td>0.85</td>\n",
       "      <td>0.0</td>\n",
       "      <td>0.0</td>\n",
       "      <td>0.00</td>\n",
       "      <td>83.19</td>\n",
       "      <td>0.0</td>\n",
       "      <td>288.58</td>\n",
       "      <td>76.99</td>\n",
       "      <td>365.58</td>\n",
       "    </tr>\n",
       "    <tr>\n",
       "      <th>1910</th>\n",
       "      <td>12S131</td>\n",
       "      <td>3</td>\n",
       "      <td>6</td>\n",
       "      <td>2012</td>\n",
       "      <td>0.00</td>\n",
       "      <td>0.0</td>\n",
       "      <td>0.00</td>\n",
       "      <td>0.0</td>\n",
       "      <td>10.07</td>\n",
       "      <td>17.94</td>\n",
       "      <td>0.0</td>\n",
       "      <td>52.20</td>\n",
       "      <td>0.90</td>\n",
       "      <td>0.0</td>\n",
       "      <td>0.0</td>\n",
       "      <td>39.13</td>\n",
       "      <td>17.51</td>\n",
       "      <td>0.0</td>\n",
       "      <td>85.55</td>\n",
       "      <td>52.20</td>\n",
       "      <td>137.75</td>\n",
       "    </tr>\n",
       "    <tr>\n",
       "      <th>1997</th>\n",
       "      <td>12S134</td>\n",
       "      <td>3</td>\n",
       "      <td>3</td>\n",
       "      <td>2012</td>\n",
       "      <td>19.25</td>\n",
       "      <td>0.0</td>\n",
       "      <td>0.00</td>\n",
       "      <td>0.0</td>\n",
       "      <td>8.91</td>\n",
       "      <td>13.66</td>\n",
       "      <td>0.0</td>\n",
       "      <td>59.12</td>\n",
       "      <td>0.00</td>\n",
       "      <td>0.0</td>\n",
       "      <td>0.0</td>\n",
       "      <td>0.00</td>\n",
       "      <td>74.31</td>\n",
       "      <td>0.0</td>\n",
       "      <td>96.88</td>\n",
       "      <td>59.12</td>\n",
       "      <td>156.00</td>\n",
       "    </tr>\n",
       "  </tbody>\n",
       "</table>\n",
       "</div>"
      ],
      "text/plain": [
       "     Keycode  Month  Day  Year  Noise  Bathtub  Clotheswasher  Cooler  \\\n",
       "1903  12S131      2   28  2012   0.00      0.0           0.00     0.0   \n",
       "1905  12S131      3    1  2012   0.00      0.0           0.00     0.0   \n",
       "1908  12S131      3    4  2012   0.00      0.0         142.62     0.0   \n",
       "1910  12S131      3    6  2012   0.00      0.0           0.00     0.0   \n",
       "1997  12S134      3    3  2012  19.25      0.0           0.00     0.0   \n",
       "\n",
       "      Dishwasher  Faucet  Humidifier  Irrigation  Leak  Other  Pool  Shower  \\\n",
       "1903       11.04   21.66         0.0       62.39  0.00    0.0   0.0   47.25   \n",
       "1905        0.00    8.19         0.0       65.91  2.62    0.0   0.0   67.78   \n",
       "1908       10.42   51.51         0.0       76.99  0.85    0.0   0.0    0.00   \n",
       "1910       10.07   17.94         0.0       52.20  0.90    0.0   0.0   39.13   \n",
       "1997        8.91   13.66         0.0       59.12  0.00    0.0   0.0    0.00   \n",
       "\n",
       "      Toilet  Treatment  INDOOR  OUTDOOR   TOTAL  \n",
       "1903   32.01        0.0  111.96    62.39  174.34  \n",
       "1905   26.20        0.0  104.79    65.91  170.70  \n",
       "1908   83.19        0.0  288.58    76.99  365.58  \n",
       "1910   17.51        0.0   85.55    52.20  137.75  \n",
       "1997   74.31        0.0   96.88    59.12  156.00  "
      ]
     },
     "execution_count": 16,
     "metadata": {},
     "output_type": "execute_result"
    }
   ],
   "source": [
    "daily_4.head()"
   ]
  },
  {
   "cell_type": "code",
   "execution_count": 17,
   "metadata": {},
   "outputs": [
    {
     "data": {
      "text/html": [
       "<div>\n",
       "<style scoped>\n",
       "    .dataframe tbody tr th:only-of-type {\n",
       "        vertical-align: middle;\n",
       "    }\n",
       "\n",
       "    .dataframe tbody tr th {\n",
       "        vertical-align: top;\n",
       "    }\n",
       "\n",
       "    .dataframe thead th {\n",
       "        text-align: right;\n",
       "    }\n",
       "</style>\n",
       "<table border=\"1\" class=\"dataframe\">\n",
       "  <thead>\n",
       "    <tr style=\"text-align: right;\">\n",
       "      <th></th>\n",
       "      <th>Keycode</th>\n",
       "      <th>Date</th>\n",
       "      <th>Hour</th>\n",
       "      <th>TOTAL (GAL/HOUR)</th>\n",
       "    </tr>\n",
       "  </thead>\n",
       "  <tbody>\n",
       "    <tr>\n",
       "      <th>35176</th>\n",
       "      <td>12S131</td>\n",
       "      <td>23-Feb-12</td>\n",
       "      <td>0</td>\n",
       "      <td>12.8</td>\n",
       "    </tr>\n",
       "    <tr>\n",
       "      <th>35177</th>\n",
       "      <td>12S131</td>\n",
       "      <td>23-Feb-12</td>\n",
       "      <td>1</td>\n",
       "      <td>9.7</td>\n",
       "    </tr>\n",
       "    <tr>\n",
       "      <th>35178</th>\n",
       "      <td>12S131</td>\n",
       "      <td>23-Feb-12</td>\n",
       "      <td>2</td>\n",
       "      <td>3.8</td>\n",
       "    </tr>\n",
       "    <tr>\n",
       "      <th>35179</th>\n",
       "      <td>12S131</td>\n",
       "      <td>23-Feb-12</td>\n",
       "      <td>5</td>\n",
       "      <td>3.6</td>\n",
       "    </tr>\n",
       "    <tr>\n",
       "      <th>35180</th>\n",
       "      <td>12S131</td>\n",
       "      <td>23-Feb-12</td>\n",
       "      <td>6</td>\n",
       "      <td>3.2</td>\n",
       "    </tr>\n",
       "  </tbody>\n",
       "</table>\n",
       "</div>"
      ],
      "text/plain": [
       "      Keycode       Date  Hour  TOTAL (GAL/HOUR)\n",
       "35176  12S131  23-Feb-12     0              12.8\n",
       "35177  12S131  23-Feb-12     1               9.7\n",
       "35178  12S131  23-Feb-12     2               3.8\n",
       "35179  12S131  23-Feb-12     5               3.6\n",
       "35180  12S131  23-Feb-12     6               3.2"
      ]
     },
     "execution_count": 17,
     "metadata": {},
     "output_type": "execute_result"
    }
   ],
   "source": [
    "hourly_2.head()"
   ]
  },
  {
   "cell_type": "markdown",
   "metadata": {},
   "source": [
    "### To do this, we manually merge the 'Month', 'Day' and 'Year' column in Excel by using the [DATE function](https://support.microsoft.com/en-us/office/date-function-e36c0c8c-4104-49da-ab83-82328b832349). So we need to save the files to edit them."
   ]
  },
  {
   "cell_type": "code",
   "execution_count": 18,
   "metadata": {},
   "outputs": [],
   "source": [
    "daily_4.to_csv(path+'/1. EDA and Data Processing\\intermidiates\\Daily-No-Date.csv', index=0)"
   ]
  },
  {
   "cell_type": "code",
   "execution_count": 19,
   "metadata": {},
   "outputs": [],
   "source": [
    "hourly_2.to_csv(path+'/1. EDA and Data Processing\\intermidiates\\Hourly.csv', index=0)"
   ]
  },
  {
   "cell_type": "markdown",
   "metadata": {},
   "source": [
    "### The dates have been normalized."
   ]
  },
  {
   "cell_type": "code",
   "execution_count": 36,
   "metadata": {},
   "outputs": [
    {
     "data": {
      "text/html": [
       "<div>\n",
       "<style scoped>\n",
       "    .dataframe tbody tr th:only-of-type {\n",
       "        vertical-align: middle;\n",
       "    }\n",
       "\n",
       "    .dataframe tbody tr th {\n",
       "        vertical-align: top;\n",
       "    }\n",
       "\n",
       "    .dataframe thead th {\n",
       "        text-align: right;\n",
       "    }\n",
       "</style>\n",
       "<table border=\"1\" class=\"dataframe\">\n",
       "  <thead>\n",
       "    <tr style=\"text-align: right;\">\n",
       "      <th></th>\n",
       "      <th>Keycode</th>\n",
       "      <th>Date</th>\n",
       "      <th>Month</th>\n",
       "      <th>Day</th>\n",
       "      <th>Year</th>\n",
       "      <th>Noise</th>\n",
       "      <th>Bathtub</th>\n",
       "      <th>Clotheswasher</th>\n",
       "      <th>Cooler</th>\n",
       "      <th>Dishwasher</th>\n",
       "      <th>Faucet</th>\n",
       "      <th>Humidifier</th>\n",
       "      <th>Irrigation</th>\n",
       "      <th>Leak</th>\n",
       "      <th>Other</th>\n",
       "      <th>Pool</th>\n",
       "      <th>Shower</th>\n",
       "      <th>Toilet</th>\n",
       "      <th>Treatment</th>\n",
       "      <th>INDOOR</th>\n",
       "      <th>OUTDOOR</th>\n",
       "      <th>TOTAL</th>\n",
       "    </tr>\n",
       "  </thead>\n",
       "  <tbody>\n",
       "    <tr>\n",
       "      <th>0</th>\n",
       "      <td>12S131</td>\n",
       "      <td>2/28/2012</td>\n",
       "      <td>2</td>\n",
       "      <td>28</td>\n",
       "      <td>2012</td>\n",
       "      <td>0.00</td>\n",
       "      <td>0.0</td>\n",
       "      <td>0.00</td>\n",
       "      <td>0.0</td>\n",
       "      <td>11.04</td>\n",
       "      <td>21.66</td>\n",
       "      <td>0.0</td>\n",
       "      <td>62.39</td>\n",
       "      <td>0.00</td>\n",
       "      <td>0.0</td>\n",
       "      <td>0.0</td>\n",
       "      <td>47.25</td>\n",
       "      <td>32.01</td>\n",
       "      <td>0</td>\n",
       "      <td>111.96</td>\n",
       "      <td>62.39</td>\n",
       "      <td>174.34</td>\n",
       "    </tr>\n",
       "    <tr>\n",
       "      <th>1</th>\n",
       "      <td>12S131</td>\n",
       "      <td>3/1/2012</td>\n",
       "      <td>3</td>\n",
       "      <td>1</td>\n",
       "      <td>2012</td>\n",
       "      <td>0.00</td>\n",
       "      <td>0.0</td>\n",
       "      <td>0.00</td>\n",
       "      <td>0.0</td>\n",
       "      <td>0.00</td>\n",
       "      <td>8.19</td>\n",
       "      <td>0.0</td>\n",
       "      <td>65.91</td>\n",
       "      <td>2.62</td>\n",
       "      <td>0.0</td>\n",
       "      <td>0.0</td>\n",
       "      <td>67.78</td>\n",
       "      <td>26.20</td>\n",
       "      <td>0</td>\n",
       "      <td>104.79</td>\n",
       "      <td>65.91</td>\n",
       "      <td>170.70</td>\n",
       "    </tr>\n",
       "    <tr>\n",
       "      <th>2</th>\n",
       "      <td>12S131</td>\n",
       "      <td>3/4/2012</td>\n",
       "      <td>3</td>\n",
       "      <td>4</td>\n",
       "      <td>2012</td>\n",
       "      <td>0.00</td>\n",
       "      <td>0.0</td>\n",
       "      <td>142.62</td>\n",
       "      <td>0.0</td>\n",
       "      <td>10.42</td>\n",
       "      <td>51.51</td>\n",
       "      <td>0.0</td>\n",
       "      <td>76.99</td>\n",
       "      <td>0.85</td>\n",
       "      <td>0.0</td>\n",
       "      <td>0.0</td>\n",
       "      <td>0.00</td>\n",
       "      <td>83.19</td>\n",
       "      <td>0</td>\n",
       "      <td>288.58</td>\n",
       "      <td>76.99</td>\n",
       "      <td>365.58</td>\n",
       "    </tr>\n",
       "    <tr>\n",
       "      <th>3</th>\n",
       "      <td>12S131</td>\n",
       "      <td>3/6/2012</td>\n",
       "      <td>3</td>\n",
       "      <td>6</td>\n",
       "      <td>2012</td>\n",
       "      <td>0.00</td>\n",
       "      <td>0.0</td>\n",
       "      <td>0.00</td>\n",
       "      <td>0.0</td>\n",
       "      <td>10.07</td>\n",
       "      <td>17.94</td>\n",
       "      <td>0.0</td>\n",
       "      <td>52.20</td>\n",
       "      <td>0.90</td>\n",
       "      <td>0.0</td>\n",
       "      <td>0.0</td>\n",
       "      <td>39.13</td>\n",
       "      <td>17.51</td>\n",
       "      <td>0</td>\n",
       "      <td>85.55</td>\n",
       "      <td>52.20</td>\n",
       "      <td>137.75</td>\n",
       "    </tr>\n",
       "    <tr>\n",
       "      <th>4</th>\n",
       "      <td>12S134</td>\n",
       "      <td>3/3/2012</td>\n",
       "      <td>3</td>\n",
       "      <td>3</td>\n",
       "      <td>2012</td>\n",
       "      <td>19.25</td>\n",
       "      <td>0.0</td>\n",
       "      <td>0.00</td>\n",
       "      <td>0.0</td>\n",
       "      <td>8.91</td>\n",
       "      <td>13.66</td>\n",
       "      <td>0.0</td>\n",
       "      <td>59.12</td>\n",
       "      <td>0.00</td>\n",
       "      <td>0.0</td>\n",
       "      <td>0.0</td>\n",
       "      <td>0.00</td>\n",
       "      <td>74.31</td>\n",
       "      <td>0</td>\n",
       "      <td>96.88</td>\n",
       "      <td>59.12</td>\n",
       "      <td>156.00</td>\n",
       "    </tr>\n",
       "  </tbody>\n",
       "</table>\n",
       "</div>"
      ],
      "text/plain": [
       "  Keycode       Date  Month  Day  Year  Noise  Bathtub  Clotheswasher  Cooler  \\\n",
       "0  12S131  2/28/2012      2   28  2012   0.00      0.0           0.00     0.0   \n",
       "1  12S131   3/1/2012      3    1  2012   0.00      0.0           0.00     0.0   \n",
       "2  12S131   3/4/2012      3    4  2012   0.00      0.0         142.62     0.0   \n",
       "3  12S131   3/6/2012      3    6  2012   0.00      0.0           0.00     0.0   \n",
       "4  12S134   3/3/2012      3    3  2012  19.25      0.0           0.00     0.0   \n",
       "\n",
       "   Dishwasher  Faucet  Humidifier  Irrigation  Leak  Other  Pool  Shower  \\\n",
       "0       11.04   21.66         0.0       62.39  0.00    0.0   0.0   47.25   \n",
       "1        0.00    8.19         0.0       65.91  2.62    0.0   0.0   67.78   \n",
       "2       10.42   51.51         0.0       76.99  0.85    0.0   0.0    0.00   \n",
       "3       10.07   17.94         0.0       52.20  0.90    0.0   0.0   39.13   \n",
       "4        8.91   13.66         0.0       59.12  0.00    0.0   0.0    0.00   \n",
       "\n",
       "   Toilet  Treatment  INDOOR  OUTDOOR   TOTAL  \n",
       "0   32.01          0  111.96    62.39  174.34  \n",
       "1   26.20          0  104.79    65.91  170.70  \n",
       "2   83.19          0  288.58    76.99  365.58  \n",
       "3   17.51          0   85.55    52.20  137.75  \n",
       "4   74.31          0   96.88    59.12  156.00  "
      ]
     },
     "execution_count": 36,
     "metadata": {},
     "output_type": "execute_result"
    }
   ],
   "source": [
    "daily_5=pd.read_csv(path+'/1. EDA and Data Processing\\intermidiates\\Daily-No-Date.csv')\n",
    "daily_5.head()"
   ]
  },
  {
   "cell_type": "markdown",
   "metadata": {},
   "source": [
    "### And to manually change the date type in the hourly database to 'Short date' in Excel. "
   ]
  },
  {
   "cell_type": "code",
   "execution_count": 29,
   "metadata": {},
   "outputs": [
    {
     "data": {
      "text/html": [
       "<div>\n",
       "<style scoped>\n",
       "    .dataframe tbody tr th:only-of-type {\n",
       "        vertical-align: middle;\n",
       "    }\n",
       "\n",
       "    .dataframe tbody tr th {\n",
       "        vertical-align: top;\n",
       "    }\n",
       "\n",
       "    .dataframe thead th {\n",
       "        text-align: right;\n",
       "    }\n",
       "</style>\n",
       "<table border=\"1\" class=\"dataframe\">\n",
       "  <thead>\n",
       "    <tr style=\"text-align: right;\">\n",
       "      <th></th>\n",
       "      <th>Keycode</th>\n",
       "      <th>Date</th>\n",
       "      <th>Hour</th>\n",
       "      <th>TOTAL (GAL/HOUR)</th>\n",
       "    </tr>\n",
       "  </thead>\n",
       "  <tbody>\n",
       "    <tr>\n",
       "      <th>0</th>\n",
       "      <td>12S131</td>\n",
       "      <td>2/23/2012</td>\n",
       "      <td>0</td>\n",
       "      <td>12.8</td>\n",
       "    </tr>\n",
       "    <tr>\n",
       "      <th>1</th>\n",
       "      <td>12S131</td>\n",
       "      <td>2/23/2012</td>\n",
       "      <td>1</td>\n",
       "      <td>9.7</td>\n",
       "    </tr>\n",
       "    <tr>\n",
       "      <th>2</th>\n",
       "      <td>12S131</td>\n",
       "      <td>2/23/2012</td>\n",
       "      <td>2</td>\n",
       "      <td>3.8</td>\n",
       "    </tr>\n",
       "    <tr>\n",
       "      <th>3</th>\n",
       "      <td>12S131</td>\n",
       "      <td>2/23/2012</td>\n",
       "      <td>5</td>\n",
       "      <td>3.6</td>\n",
       "    </tr>\n",
       "    <tr>\n",
       "      <th>4</th>\n",
       "      <td>12S131</td>\n",
       "      <td>2/23/2012</td>\n",
       "      <td>6</td>\n",
       "      <td>3.2</td>\n",
       "    </tr>\n",
       "  </tbody>\n",
       "</table>\n",
       "</div>"
      ],
      "text/plain": [
       "  Keycode       Date  Hour  TOTAL (GAL/HOUR)\n",
       "0  12S131  2/23/2012     0              12.8\n",
       "1  12S131  2/23/2012     1               9.7\n",
       "2  12S131  2/23/2012     2               3.8\n",
       "3  12S131  2/23/2012     5               3.6\n",
       "4  12S131  2/23/2012     6               3.2"
      ]
     },
     "execution_count": 29,
     "metadata": {},
     "output_type": "execute_result"
    }
   ],
   "source": [
    "hourly_3=pd.read_csv(path+'/1. EDA and Data Processing\\intermidiates\\Hourly.csv')\n",
    "hourly_3.head()"
   ]
  },
  {
   "cell_type": "markdown",
   "metadata": {},
   "source": [
    "### 2. Prepare the datasets for matching."
   ]
  },
  {
   "cell_type": "markdown",
   "metadata": {},
   "source": [
    "#### Drop non-essential columns from the daily dataset."
   ]
  },
  {
   "cell_type": "code",
   "execution_count": 37,
   "metadata": {},
   "outputs": [
    {
     "data": {
      "text/html": [
       "<div>\n",
       "<style scoped>\n",
       "    .dataframe tbody tr th:only-of-type {\n",
       "        vertical-align: middle;\n",
       "    }\n",
       "\n",
       "    .dataframe tbody tr th {\n",
       "        vertical-align: top;\n",
       "    }\n",
       "\n",
       "    .dataframe thead th {\n",
       "        text-align: right;\n",
       "    }\n",
       "</style>\n",
       "<table border=\"1\" class=\"dataframe\">\n",
       "  <thead>\n",
       "    <tr style=\"text-align: right;\">\n",
       "      <th></th>\n",
       "      <th>Keycode</th>\n",
       "      <th>Date</th>\n",
       "      <th>INDOOR</th>\n",
       "      <th>OUTDOOR</th>\n",
       "      <th>TOTAL</th>\n",
       "    </tr>\n",
       "  </thead>\n",
       "  <tbody>\n",
       "    <tr>\n",
       "      <th>0</th>\n",
       "      <td>12S131</td>\n",
       "      <td>2/28/2012</td>\n",
       "      <td>111.96</td>\n",
       "      <td>62.39</td>\n",
       "      <td>174.34</td>\n",
       "    </tr>\n",
       "    <tr>\n",
       "      <th>1</th>\n",
       "      <td>12S131</td>\n",
       "      <td>3/1/2012</td>\n",
       "      <td>104.79</td>\n",
       "      <td>65.91</td>\n",
       "      <td>170.70</td>\n",
       "    </tr>\n",
       "    <tr>\n",
       "      <th>2</th>\n",
       "      <td>12S131</td>\n",
       "      <td>3/4/2012</td>\n",
       "      <td>288.58</td>\n",
       "      <td>76.99</td>\n",
       "      <td>365.58</td>\n",
       "    </tr>\n",
       "    <tr>\n",
       "      <th>3</th>\n",
       "      <td>12S131</td>\n",
       "      <td>3/6/2012</td>\n",
       "      <td>85.55</td>\n",
       "      <td>52.20</td>\n",
       "      <td>137.75</td>\n",
       "    </tr>\n",
       "    <tr>\n",
       "      <th>4</th>\n",
       "      <td>12S134</td>\n",
       "      <td>3/3/2012</td>\n",
       "      <td>96.88</td>\n",
       "      <td>59.12</td>\n",
       "      <td>156.00</td>\n",
       "    </tr>\n",
       "  </tbody>\n",
       "</table>\n",
       "</div>"
      ],
      "text/plain": [
       "  Keycode       Date  INDOOR  OUTDOOR   TOTAL\n",
       "0  12S131  2/28/2012  111.96    62.39  174.34\n",
       "1  12S131   3/1/2012  104.79    65.91  170.70\n",
       "2  12S131   3/4/2012  288.58    76.99  365.58\n",
       "3  12S131   3/6/2012   85.55    52.20  137.75\n",
       "4  12S134   3/3/2012   96.88    59.12  156.00"
      ]
     },
     "execution_count": 37,
     "metadata": {},
     "output_type": "execute_result"
    }
   ],
   "source": [
    "daily_5.drop(daily_5.columns.difference(['Keycode','Date','INDOOR','OUTDOOR','TOTAL']), 1, inplace=True)\n",
    "daily_5.head()"
   ]
  },
  {
   "cell_type": "markdown",
   "metadata": {},
   "source": [
    "#### Complete the missing hours of each day with zeros for the hourly dataset."
   ]
  },
  {
   "cell_type": "code",
   "execution_count": 31,
   "metadata": {},
   "outputs": [],
   "source": [
    "# DEFINE A FUNCTION THAT INSERTS A row_value IN THE SPECIFIED row_number OF df.\n",
    "def Insert_row_(row_number, df, row_value): \n",
    "    df1 = df[0:row_number] \n",
    "    df2 = df[row_number:] \n",
    "    df1.loc[row_number]=row_value \n",
    "    df_result = pd.concat([df1, df2]) \n",
    "    df_result.index = [*range(df_result.shape[0])]  \n",
    "    return df_result"
   ]
  },
  {
   "cell_type": "code",
   "execution_count": 32,
   "metadata": {},
   "outputs": [
    {
     "name": "stderr",
     "output_type": "stream",
     "text": [
      "C:\\Users\\rodcan\\miniconda3\\lib\\site-packages\\pandas\\core\\indexing.py:671: SettingWithCopyWarning: \n",
      "A value is trying to be set on a copy of a slice from a DataFrame\n",
      "\n",
      "See the caveats in the documentation: https://pandas.pydata.org/pandas-docs/stable/user_guide/indexing.html#returning-a-view-versus-a-copy\n",
      "  self._setitem_with_indexer(indexer, value)\n"
     ]
    },
    {
     "name": "stdout",
     "output_type": "stream",
     "text": [
      "  Keycode       Date  Hour  TOTAL (GAL/HOUR)           Unique\n",
      "0  12S131  2/23/2012     0              12.8  12S1312/23/2012\n",
      "1  12S131  2/23/2012     1               9.7  12S1312/23/2012\n",
      "2  12S131  2/23/2012     2               3.8  12S1312/23/2012\n",
      "3  12S131  2/23/2012     3               0.0  12S1312/23/2012\n",
      "4  12S131  2/23/2012     4               0.0  12S1312/23/2012\n"
     ]
    }
   ],
   "source": [
    "# THIS TAKES A LONG TIME.\n",
    "df = hourly_3\n",
    "column = []\n",
    "for i in range(0,df.index.max()+1):\n",
    "    column.append(df.iloc[i,0]+df.iloc[i,1])\n",
    "df['Unique']=column\n",
    "\n",
    "for j in range(0,len(df['Unique'].unique())):\n",
    "    for i in range(0,24):\n",
    "        row_number = i+(24*j)\n",
    "        if i+(24*j) > df.index.max():\n",
    "            row_value = [df.iloc[i+(24*j)-1,0], df.iloc[i+(24*j)-1,1], i, 0, df.iloc[i+(24*j)-1,4]]\n",
    "            df = Insert_row_(row_number, df, row_value)\n",
    "        else:\n",
    "            if df.iloc[i+(24*j),2]==i:\n",
    "                continue\n",
    "            elif df.iloc[i+(24*j),2]<df.iloc[i+(24*j)-1,2] and df.iloc[i+(24*j)-1,2]<23:\n",
    "                row_value = [df.iloc[i+(24*j)-2,0], df.iloc[i+(24*j)-2,1], i, 0, df.iloc[i+(24*j)-1,4]]\n",
    "                df = Insert_row_(row_number, df, row_value)\n",
    "            else:\n",
    "                row_value = [df.iloc[i+(24*j),0], df.iloc[i+(24*j),1], i, 0, df.iloc[i+(24*j)-1,4]]\n",
    "                df = Insert_row_(row_number, df, row_value)\n",
    "#     print(j)\n",
    "            \n",
    "pd.set_option('display.max_rows', df.shape[0]+1)\n",
    "print(df.head())"
   ]
  },
  {
   "cell_type": "code",
   "execution_count": 33,
   "metadata": {},
   "outputs": [
    {
     "data": {
      "text/html": [
       "<div>\n",
       "<style scoped>\n",
       "    .dataframe tbody tr th:only-of-type {\n",
       "        vertical-align: middle;\n",
       "    }\n",
       "\n",
       "    .dataframe tbody tr th {\n",
       "        vertical-align: top;\n",
       "    }\n",
       "\n",
       "    .dataframe thead th {\n",
       "        text-align: right;\n",
       "    }\n",
       "</style>\n",
       "<table border=\"1\" class=\"dataframe\">\n",
       "  <thead>\n",
       "    <tr style=\"text-align: right;\">\n",
       "      <th></th>\n",
       "      <th>Keycode</th>\n",
       "      <th>Date</th>\n",
       "      <th>Hour</th>\n",
       "      <th>TOTAL (GAL/HOUR)</th>\n",
       "    </tr>\n",
       "  </thead>\n",
       "  <tbody>\n",
       "    <tr>\n",
       "      <th>0</th>\n",
       "      <td>12S131</td>\n",
       "      <td>2/23/2012</td>\n",
       "      <td>0</td>\n",
       "      <td>12.8</td>\n",
       "    </tr>\n",
       "    <tr>\n",
       "      <th>1</th>\n",
       "      <td>12S131</td>\n",
       "      <td>2/23/2012</td>\n",
       "      <td>1</td>\n",
       "      <td>9.7</td>\n",
       "    </tr>\n",
       "    <tr>\n",
       "      <th>2</th>\n",
       "      <td>12S131</td>\n",
       "      <td>2/23/2012</td>\n",
       "      <td>2</td>\n",
       "      <td>3.8</td>\n",
       "    </tr>\n",
       "    <tr>\n",
       "      <th>3</th>\n",
       "      <td>12S131</td>\n",
       "      <td>2/23/2012</td>\n",
       "      <td>3</td>\n",
       "      <td>0.0</td>\n",
       "    </tr>\n",
       "    <tr>\n",
       "      <th>4</th>\n",
       "      <td>12S131</td>\n",
       "      <td>2/23/2012</td>\n",
       "      <td>4</td>\n",
       "      <td>0.0</td>\n",
       "    </tr>\n",
       "  </tbody>\n",
       "</table>\n",
       "</div>"
      ],
      "text/plain": [
       "  Keycode       Date  Hour  TOTAL (GAL/HOUR)\n",
       "0  12S131  2/23/2012     0              12.8\n",
       "1  12S131  2/23/2012     1               9.7\n",
       "2  12S131  2/23/2012     2               3.8\n",
       "3  12S131  2/23/2012     3               0.0\n",
       "4  12S131  2/23/2012     4               0.0"
      ]
     },
     "execution_count": 33,
     "metadata": {},
     "output_type": "execute_result"
    }
   ],
   "source": [
    "df_1=df.drop(['Unique'],axis=1)\n",
    "df_1.head()"
   ]
  },
  {
   "cell_type": "markdown",
   "metadata": {},
   "source": [
    "### Now we can generate the **Unique** IDs"
   ]
  },
  {
   "cell_type": "code",
   "execution_count": 112,
   "metadata": {},
   "outputs": [],
   "source": [
    "daily_6 = daily_5\n",
    "column = []\n",
    "for i in range(0,daily_6.index.max()+1):\n",
    "    column.append(daily_6.iloc[i,0]+daily_6.iloc[i,1])\n",
    "daily_6['Unique']=column"
   ]
  },
  {
   "cell_type": "code",
   "execution_count": 113,
   "metadata": {},
   "outputs": [
    {
     "data": {
      "text/html": [
       "<div>\n",
       "<style scoped>\n",
       "    .dataframe tbody tr th:only-of-type {\n",
       "        vertical-align: middle;\n",
       "    }\n",
       "\n",
       "    .dataframe tbody tr th {\n",
       "        vertical-align: top;\n",
       "    }\n",
       "\n",
       "    .dataframe thead th {\n",
       "        text-align: right;\n",
       "    }\n",
       "</style>\n",
       "<table border=\"1\" class=\"dataframe\">\n",
       "  <thead>\n",
       "    <tr style=\"text-align: right;\">\n",
       "      <th></th>\n",
       "      <th>Keycode</th>\n",
       "      <th>Date</th>\n",
       "      <th>INDOOR</th>\n",
       "      <th>OUTDOOR</th>\n",
       "      <th>TOTAL</th>\n",
       "      <th>Unique</th>\n",
       "    </tr>\n",
       "  </thead>\n",
       "  <tbody>\n",
       "    <tr>\n",
       "      <th>0</th>\n",
       "      <td>12S131</td>\n",
       "      <td>2/28/2012</td>\n",
       "      <td>111.96</td>\n",
       "      <td>62.39</td>\n",
       "      <td>174.34</td>\n",
       "      <td>12S1312/28/2012</td>\n",
       "    </tr>\n",
       "    <tr>\n",
       "      <th>1</th>\n",
       "      <td>12S131</td>\n",
       "      <td>3/1/2012</td>\n",
       "      <td>104.79</td>\n",
       "      <td>65.91</td>\n",
       "      <td>170.70</td>\n",
       "      <td>12S1313/1/2012</td>\n",
       "    </tr>\n",
       "    <tr>\n",
       "      <th>2</th>\n",
       "      <td>12S131</td>\n",
       "      <td>3/4/2012</td>\n",
       "      <td>288.58</td>\n",
       "      <td>76.99</td>\n",
       "      <td>365.58</td>\n",
       "      <td>12S1313/4/2012</td>\n",
       "    </tr>\n",
       "    <tr>\n",
       "      <th>3</th>\n",
       "      <td>12S131</td>\n",
       "      <td>3/6/2012</td>\n",
       "      <td>85.55</td>\n",
       "      <td>52.20</td>\n",
       "      <td>137.75</td>\n",
       "      <td>12S1313/6/2012</td>\n",
       "    </tr>\n",
       "    <tr>\n",
       "      <th>4</th>\n",
       "      <td>12S134</td>\n",
       "      <td>3/3/2012</td>\n",
       "      <td>96.88</td>\n",
       "      <td>59.12</td>\n",
       "      <td>156.00</td>\n",
       "      <td>12S1343/3/2012</td>\n",
       "    </tr>\n",
       "  </tbody>\n",
       "</table>\n",
       "</div>"
      ],
      "text/plain": [
       "  Keycode       Date  INDOOR  OUTDOOR   TOTAL           Unique\n",
       "0  12S131  2/28/2012  111.96    62.39  174.34  12S1312/28/2012\n",
       "1  12S131   3/1/2012  104.79    65.91  170.70   12S1313/1/2012\n",
       "2  12S131   3/4/2012  288.58    76.99  365.58   12S1313/4/2012\n",
       "3  12S131   3/6/2012   85.55    52.20  137.75   12S1313/6/2012\n",
       "4  12S134   3/3/2012   96.88    59.12  156.00   12S1343/3/2012"
      ]
     },
     "execution_count": 113,
     "metadata": {},
     "output_type": "execute_result"
    }
   ],
   "source": [
    "daily_6.head()"
   ]
  },
  {
   "cell_type": "code",
   "execution_count": 40,
   "metadata": {},
   "outputs": [],
   "source": [
    "hourly_4 = df_1\n",
    "column = []\n",
    "for i in range(0,hourly_4.index.max()+1):\n",
    "    column.append(hourly_4.iloc[i,0]+hourly_4.iloc[i,1])\n",
    "hourly_4['Unique']=column"
   ]
  },
  {
   "cell_type": "code",
   "execution_count": 41,
   "metadata": {},
   "outputs": [
    {
     "data": {
      "text/html": [
       "<div>\n",
       "<style scoped>\n",
       "    .dataframe tbody tr th:only-of-type {\n",
       "        vertical-align: middle;\n",
       "    }\n",
       "\n",
       "    .dataframe tbody tr th {\n",
       "        vertical-align: top;\n",
       "    }\n",
       "\n",
       "    .dataframe thead th {\n",
       "        text-align: right;\n",
       "    }\n",
       "</style>\n",
       "<table border=\"1\" class=\"dataframe\">\n",
       "  <thead>\n",
       "    <tr style=\"text-align: right;\">\n",
       "      <th></th>\n",
       "      <th>Keycode</th>\n",
       "      <th>Date</th>\n",
       "      <th>Hour</th>\n",
       "      <th>TOTAL (GAL/HOUR)</th>\n",
       "      <th>Unique</th>\n",
       "    </tr>\n",
       "  </thead>\n",
       "  <tbody>\n",
       "    <tr>\n",
       "      <th>58651</th>\n",
       "      <td>12S720</td>\n",
       "      <td>9/3/2012</td>\n",
       "      <td>19</td>\n",
       "      <td>0.0</td>\n",
       "      <td>12S7209/3/2012</td>\n",
       "    </tr>\n",
       "    <tr>\n",
       "      <th>58652</th>\n",
       "      <td>12S720</td>\n",
       "      <td>9/3/2012</td>\n",
       "      <td>20</td>\n",
       "      <td>0.0</td>\n",
       "      <td>12S7209/3/2012</td>\n",
       "    </tr>\n",
       "    <tr>\n",
       "      <th>58653</th>\n",
       "      <td>12S720</td>\n",
       "      <td>9/3/2012</td>\n",
       "      <td>21</td>\n",
       "      <td>0.0</td>\n",
       "      <td>12S7209/3/2012</td>\n",
       "    </tr>\n",
       "    <tr>\n",
       "      <th>58654</th>\n",
       "      <td>12S720</td>\n",
       "      <td>9/3/2012</td>\n",
       "      <td>22</td>\n",
       "      <td>0.0</td>\n",
       "      <td>12S7209/3/2012</td>\n",
       "    </tr>\n",
       "    <tr>\n",
       "      <th>58655</th>\n",
       "      <td>12S720</td>\n",
       "      <td>9/3/2012</td>\n",
       "      <td>23</td>\n",
       "      <td>0.0</td>\n",
       "      <td>12S7209/3/2012</td>\n",
       "    </tr>\n",
       "  </tbody>\n",
       "</table>\n",
       "</div>"
      ],
      "text/plain": [
       "      Keycode      Date  Hour  TOTAL (GAL/HOUR)          Unique\n",
       "58651  12S720  9/3/2012    19               0.0  12S7209/3/2012\n",
       "58652  12S720  9/3/2012    20               0.0  12S7209/3/2012\n",
       "58653  12S720  9/3/2012    21               0.0  12S7209/3/2012\n",
       "58654  12S720  9/3/2012    22               0.0  12S7209/3/2012\n",
       "58655  12S720  9/3/2012    23               0.0  12S7209/3/2012"
      ]
     },
     "execution_count": 41,
     "metadata": {},
     "output_type": "execute_result"
    }
   ],
   "source": [
    "hourly_4.tail()"
   ]
  },
  {
   "cell_type": "markdown",
   "metadata": {},
   "source": [
    "### Let's match them up."
   ]
  },
  {
   "cell_type": "code",
   "execution_count": 42,
   "metadata": {},
   "outputs": [
    {
     "name": "stdout",
     "output_type": "stream",
     "text": [
      "Unique keycode+date in hourly dataset: 2444\n",
      "Unique keycode+date in daily dataset: 948\n"
     ]
    }
   ],
   "source": [
    "unique_hourly = hourly_4['Unique'].unique()\n",
    "unique_daily = daily_6['Unique'].unique()\n",
    "print('Unique keycode+date in hourly dataset:', len(unique_hourly))\n",
    "print('Unique keycode+date in daily dataset:', len(unique_daily))"
   ]
  },
  {
   "cell_type": "markdown",
   "metadata": {},
   "source": [
    "### This means that we should match the hourly dataset to the daily one. "
   ]
  },
  {
   "cell_type": "code",
   "execution_count": 43,
   "metadata": {},
   "outputs": [
    {
     "name": "stdout",
     "output_type": "stream",
     "text": [
      "Unique keycode+date in hourly dataset: 948\n",
      "Unique keycode+date in daily dataset: 948\n"
     ]
    }
   ],
   "source": [
    "hourly_5 = hourly_4[hourly_4.Unique.isin(unique_daily)]\n",
    "print('Unique keycode+date in hourly dataset:', len(hourly_5['Unique'].unique()))\n",
    "print('Unique keycode+date in daily dataset:', len(daily_6['Unique'].unique()))"
   ]
  },
  {
   "cell_type": "markdown",
   "metadata": {},
   "source": [
    "### With this information, we split the daily dataset into two main categories:"
   ]
  },
  {
   "cell_type": "markdown",
   "metadata": {},
   "source": [
    "## 1. DAILY and HOURLY datasets with **indoor** data only."
   ]
  },
  {
   "cell_type": "markdown",
   "metadata": {},
   "source": [
    "### Because the daily dataset will contain no outdoor demand, we can use its unique ID to identify which hourly demands are purely indoors. "
   ]
  },
  {
   "cell_type": "code",
   "execution_count": 44,
   "metadata": {},
   "outputs": [
    {
     "data": {
      "text/plain": [
       "5646"
      ]
     },
     "execution_count": 44,
     "metadata": {},
     "output_type": "execute_result"
    }
   ],
   "source": [
    "# FIRST WE FILTER THE INDOOR ONLY DATA WITH THE KEYCODES THAT HAVE OUTDOOR DEMAND.\n",
    "# DAILY\n",
    "keycodes4 = daily_2['Keycode'].unique()\n",
    "daily_7 = daily_2[daily_2.Keycode.isin(keycodes4)]\n",
    "len(daily_7)"
   ]
  },
  {
   "cell_type": "code",
   "execution_count": 97,
   "metadata": {},
   "outputs": [],
   "source": [
    "# THEN WE REFORMAT THE daily_2 DATE WITH EXCEL.\n",
    "daily_7.to_csv(path+'/1. EDA and Data Processing\\intermidiates\\Daily-2-No-Date.csv', index=0)"
   ]
  },
  {
   "cell_type": "code",
   "execution_count": 98,
   "metadata": {},
   "outputs": [],
   "source": [
    "daily_8=pd.read_csv(path+'/1. EDA and Data Processing\\intermidiates\\Daily-2-No-Date.csv')\n",
    "column = []\n",
    "for i in range(0,daily_8.index.max()+1):\n",
    "    column.append(daily_8.iloc[i,0]+daily_8.iloc[i,1])\n",
    "daily_8['Unique']=column"
   ]
  },
  {
   "cell_type": "code",
   "execution_count": 99,
   "metadata": {},
   "outputs": [
    {
     "data": {
      "text/html": [
       "<div>\n",
       "<style scoped>\n",
       "    .dataframe tbody tr th:only-of-type {\n",
       "        vertical-align: middle;\n",
       "    }\n",
       "\n",
       "    .dataframe tbody tr th {\n",
       "        vertical-align: top;\n",
       "    }\n",
       "\n",
       "    .dataframe thead th {\n",
       "        text-align: right;\n",
       "    }\n",
       "</style>\n",
       "<table border=\"1\" class=\"dataframe\">\n",
       "  <thead>\n",
       "    <tr style=\"text-align: right;\">\n",
       "      <th></th>\n",
       "      <th>Keycode</th>\n",
       "      <th>Date</th>\n",
       "      <th>Month</th>\n",
       "      <th>Day</th>\n",
       "      <th>Year</th>\n",
       "      <th>Noise</th>\n",
       "      <th>Bathtub</th>\n",
       "      <th>Clotheswasher</th>\n",
       "      <th>Cooler</th>\n",
       "      <th>Dishwasher</th>\n",
       "      <th>Faucet</th>\n",
       "      <th>Humidifier</th>\n",
       "      <th>Irrigation</th>\n",
       "      <th>Leak</th>\n",
       "      <th>Other</th>\n",
       "      <th>Pool</th>\n",
       "      <th>Shower</th>\n",
       "      <th>Toilet</th>\n",
       "      <th>Treatment</th>\n",
       "      <th>INDOOR</th>\n",
       "      <th>OUTDOOR</th>\n",
       "      <th>TOTAL</th>\n",
       "      <th>Unique</th>\n",
       "    </tr>\n",
       "  </thead>\n",
       "  <tbody>\n",
       "    <tr>\n",
       "      <th>0</th>\n",
       "      <td>12S1003</td>\n",
       "      <td>10/26/2012</td>\n",
       "      <td>10</td>\n",
       "      <td>26</td>\n",
       "      <td>2012</td>\n",
       "      <td>0.0</td>\n",
       "      <td>0.0</td>\n",
       "      <td>0.00</td>\n",
       "      <td>0.0</td>\n",
       "      <td>6.27</td>\n",
       "      <td>44.25</td>\n",
       "      <td>0.0</td>\n",
       "      <td>0.0</td>\n",
       "      <td>4.39</td>\n",
       "      <td>0.0</td>\n",
       "      <td>0.0</td>\n",
       "      <td>18.10</td>\n",
       "      <td>45.40</td>\n",
       "      <td>0</td>\n",
       "      <td>118.40</td>\n",
       "      <td>0.0</td>\n",
       "      <td>118.40</td>\n",
       "      <td>12S100310/26/2012</td>\n",
       "    </tr>\n",
       "    <tr>\n",
       "      <th>1</th>\n",
       "      <td>12S1003</td>\n",
       "      <td>10/27/2012</td>\n",
       "      <td>10</td>\n",
       "      <td>27</td>\n",
       "      <td>2012</td>\n",
       "      <td>0.0</td>\n",
       "      <td>0.0</td>\n",
       "      <td>0.00</td>\n",
       "      <td>0.0</td>\n",
       "      <td>0.00</td>\n",
       "      <td>23.69</td>\n",
       "      <td>0.0</td>\n",
       "      <td>0.0</td>\n",
       "      <td>1.71</td>\n",
       "      <td>0.0</td>\n",
       "      <td>0.0</td>\n",
       "      <td>7.77</td>\n",
       "      <td>30.25</td>\n",
       "      <td>0</td>\n",
       "      <td>63.42</td>\n",
       "      <td>0.0</td>\n",
       "      <td>63.42</td>\n",
       "      <td>12S100310/27/2012</td>\n",
       "    </tr>\n",
       "    <tr>\n",
       "      <th>2</th>\n",
       "      <td>12S1003</td>\n",
       "      <td>10/28/2012</td>\n",
       "      <td>10</td>\n",
       "      <td>28</td>\n",
       "      <td>2012</td>\n",
       "      <td>0.0</td>\n",
       "      <td>0.0</td>\n",
       "      <td>80.85</td>\n",
       "      <td>0.0</td>\n",
       "      <td>5.52</td>\n",
       "      <td>43.22</td>\n",
       "      <td>0.0</td>\n",
       "      <td>0.0</td>\n",
       "      <td>3.43</td>\n",
       "      <td>0.0</td>\n",
       "      <td>0.0</td>\n",
       "      <td>0.00</td>\n",
       "      <td>53.24</td>\n",
       "      <td>0</td>\n",
       "      <td>186.26</td>\n",
       "      <td>0.0</td>\n",
       "      <td>186.26</td>\n",
       "      <td>12S100310/28/2012</td>\n",
       "    </tr>\n",
       "    <tr>\n",
       "      <th>3</th>\n",
       "      <td>12S1003</td>\n",
       "      <td>10/29/2012</td>\n",
       "      <td>10</td>\n",
       "      <td>29</td>\n",
       "      <td>2012</td>\n",
       "      <td>0.0</td>\n",
       "      <td>0.0</td>\n",
       "      <td>0.00</td>\n",
       "      <td>0.0</td>\n",
       "      <td>6.14</td>\n",
       "      <td>32.30</td>\n",
       "      <td>0.0</td>\n",
       "      <td>0.0</td>\n",
       "      <td>4.54</td>\n",
       "      <td>0.0</td>\n",
       "      <td>0.0</td>\n",
       "      <td>17.63</td>\n",
       "      <td>47.68</td>\n",
       "      <td>0</td>\n",
       "      <td>108.28</td>\n",
       "      <td>0.0</td>\n",
       "      <td>108.28</td>\n",
       "      <td>12S100310/29/2012</td>\n",
       "    </tr>\n",
       "    <tr>\n",
       "      <th>4</th>\n",
       "      <td>12S1003</td>\n",
       "      <td>10/30/2012</td>\n",
       "      <td>10</td>\n",
       "      <td>30</td>\n",
       "      <td>2012</td>\n",
       "      <td>0.0</td>\n",
       "      <td>0.0</td>\n",
       "      <td>0.00</td>\n",
       "      <td>0.0</td>\n",
       "      <td>0.00</td>\n",
       "      <td>46.23</td>\n",
       "      <td>0.0</td>\n",
       "      <td>0.0</td>\n",
       "      <td>4.54</td>\n",
       "      <td>0.0</td>\n",
       "      <td>0.0</td>\n",
       "      <td>24.21</td>\n",
       "      <td>38.74</td>\n",
       "      <td>0</td>\n",
       "      <td>113.72</td>\n",
       "      <td>0.0</td>\n",
       "      <td>113.72</td>\n",
       "      <td>12S100310/30/2012</td>\n",
       "    </tr>\n",
       "  </tbody>\n",
       "</table>\n",
       "</div>"
      ],
      "text/plain": [
       "   Keycode        Date  Month  Day  Year  Noise  Bathtub  Clotheswasher  \\\n",
       "0  12S1003  10/26/2012     10   26  2012    0.0      0.0           0.00   \n",
       "1  12S1003  10/27/2012     10   27  2012    0.0      0.0           0.00   \n",
       "2  12S1003  10/28/2012     10   28  2012    0.0      0.0          80.85   \n",
       "3  12S1003  10/29/2012     10   29  2012    0.0      0.0           0.00   \n",
       "4  12S1003  10/30/2012     10   30  2012    0.0      0.0           0.00   \n",
       "\n",
       "   Cooler  Dishwasher  Faucet  Humidifier  Irrigation  Leak  Other  Pool  \\\n",
       "0     0.0        6.27   44.25         0.0         0.0  4.39    0.0   0.0   \n",
       "1     0.0        0.00   23.69         0.0         0.0  1.71    0.0   0.0   \n",
       "2     0.0        5.52   43.22         0.0         0.0  3.43    0.0   0.0   \n",
       "3     0.0        6.14   32.30         0.0         0.0  4.54    0.0   0.0   \n",
       "4     0.0        0.00   46.23         0.0         0.0  4.54    0.0   0.0   \n",
       "\n",
       "   Shower  Toilet  Treatment  INDOOR  OUTDOOR   TOTAL             Unique  \n",
       "0   18.10   45.40          0  118.40      0.0  118.40  12S100310/26/2012  \n",
       "1    7.77   30.25          0   63.42      0.0   63.42  12S100310/27/2012  \n",
       "2    0.00   53.24          0  186.26      0.0  186.26  12S100310/28/2012  \n",
       "3   17.63   47.68          0  108.28      0.0  108.28  12S100310/29/2012  \n",
       "4   24.21   38.74          0  113.72      0.0  113.72  12S100310/30/2012  "
      ]
     },
     "execution_count": 99,
     "metadata": {},
     "output_type": "execute_result"
    }
   ],
   "source": [
    "daily_8.head()"
   ]
  },
  {
   "cell_type": "code",
   "execution_count": 100,
   "metadata": {},
   "outputs": [],
   "source": [
    "# THEN WE DROP THE UNNECESSARY COLUMNS.\n",
    "daily_8.drop(daily_8.columns.difference(['Keycode','Date','INDOOR','OUTDOOR','TOTAL','Unique']), 1, inplace=True)\n",
    "# AND FILTER BY THE ROWS THAT HAVE ZERO OUTDOOR DEMAND.\n",
    "daily_indoor = daily_8[daily_8['OUTDOOR'] == 0]"
   ]
  },
  {
   "cell_type": "code",
   "execution_count": 101,
   "metadata": {},
   "outputs": [
    {
     "data": {
      "text/html": [
       "<div>\n",
       "<style scoped>\n",
       "    .dataframe tbody tr th:only-of-type {\n",
       "        vertical-align: middle;\n",
       "    }\n",
       "\n",
       "    .dataframe tbody tr th {\n",
       "        vertical-align: top;\n",
       "    }\n",
       "\n",
       "    .dataframe thead th {\n",
       "        text-align: right;\n",
       "    }\n",
       "</style>\n",
       "<table border=\"1\" class=\"dataframe\">\n",
       "  <thead>\n",
       "    <tr style=\"text-align: right;\">\n",
       "      <th></th>\n",
       "      <th>Keycode</th>\n",
       "      <th>Date</th>\n",
       "      <th>INDOOR</th>\n",
       "      <th>OUTDOOR</th>\n",
       "      <th>TOTAL</th>\n",
       "      <th>Unique</th>\n",
       "    </tr>\n",
       "  </thead>\n",
       "  <tbody>\n",
       "    <tr>\n",
       "      <th>0</th>\n",
       "      <td>12S1003</td>\n",
       "      <td>10/26/2012</td>\n",
       "      <td>118.40</td>\n",
       "      <td>0.0</td>\n",
       "      <td>118.40</td>\n",
       "      <td>12S100310/26/2012</td>\n",
       "    </tr>\n",
       "    <tr>\n",
       "      <th>1</th>\n",
       "      <td>12S1003</td>\n",
       "      <td>10/27/2012</td>\n",
       "      <td>63.42</td>\n",
       "      <td>0.0</td>\n",
       "      <td>63.42</td>\n",
       "      <td>12S100310/27/2012</td>\n",
       "    </tr>\n",
       "    <tr>\n",
       "      <th>2</th>\n",
       "      <td>12S1003</td>\n",
       "      <td>10/28/2012</td>\n",
       "      <td>186.26</td>\n",
       "      <td>0.0</td>\n",
       "      <td>186.26</td>\n",
       "      <td>12S100310/28/2012</td>\n",
       "    </tr>\n",
       "    <tr>\n",
       "      <th>3</th>\n",
       "      <td>12S1003</td>\n",
       "      <td>10/29/2012</td>\n",
       "      <td>108.28</td>\n",
       "      <td>0.0</td>\n",
       "      <td>108.28</td>\n",
       "      <td>12S100310/29/2012</td>\n",
       "    </tr>\n",
       "    <tr>\n",
       "      <th>4</th>\n",
       "      <td>12S1003</td>\n",
       "      <td>10/30/2012</td>\n",
       "      <td>113.72</td>\n",
       "      <td>0.0</td>\n",
       "      <td>113.72</td>\n",
       "      <td>12S100310/30/2012</td>\n",
       "    </tr>\n",
       "  </tbody>\n",
       "</table>\n",
       "</div>"
      ],
      "text/plain": [
       "   Keycode        Date  INDOOR  OUTDOOR   TOTAL             Unique\n",
       "0  12S1003  10/26/2012  118.40      0.0  118.40  12S100310/26/2012\n",
       "1  12S1003  10/27/2012   63.42      0.0   63.42  12S100310/27/2012\n",
       "2  12S1003  10/28/2012  186.26      0.0  186.26  12S100310/28/2012\n",
       "3  12S1003  10/29/2012  108.28      0.0  108.28  12S100310/29/2012\n",
       "4  12S1003  10/30/2012  113.72      0.0  113.72  12S100310/30/2012"
      ]
     },
     "execution_count": 101,
     "metadata": {},
     "output_type": "execute_result"
    }
   ],
   "source": [
    "daily_indoor.head()"
   ]
  },
  {
   "cell_type": "code",
   "execution_count": 51,
   "metadata": {},
   "outputs": [],
   "source": [
    "# THEN, THE REMAINING HOURLY DATA WILL BE FILTERED BY THE IDs OF THE INDOOR ONLY DAILY DATA.\n",
    "unique_daily_2 = daily_indoor['Unique'].unique()\n",
    "hourly_6 = hourly_4[hourly_4.Unique.isin(unique_daily_2)]\n",
    "hourly_indoor=hourly_6.drop(['Unique'],axis=1)"
   ]
  },
  {
   "cell_type": "code",
   "execution_count": 106,
   "metadata": {},
   "outputs": [
    {
     "data": {
      "text/html": [
       "<div>\n",
       "<style scoped>\n",
       "    .dataframe tbody tr th:only-of-type {\n",
       "        vertical-align: middle;\n",
       "    }\n",
       "\n",
       "    .dataframe tbody tr th {\n",
       "        vertical-align: top;\n",
       "    }\n",
       "\n",
       "    .dataframe thead th {\n",
       "        text-align: right;\n",
       "    }\n",
       "</style>\n",
       "<table border=\"1\" class=\"dataframe\">\n",
       "  <thead>\n",
       "    <tr style=\"text-align: right;\">\n",
       "      <th></th>\n",
       "      <th>Keycode</th>\n",
       "      <th>Date</th>\n",
       "      <th>Hour</th>\n",
       "      <th>TOTAL (GAL/HOUR)</th>\n",
       "      <th>Code</th>\n",
       "    </tr>\n",
       "  </thead>\n",
       "  <tbody>\n",
       "    <tr>\n",
       "      <th>0</th>\n",
       "      <td>12S131</td>\n",
       "      <td>2/23/2012</td>\n",
       "      <td>0</td>\n",
       "      <td>12.8</td>\n",
       "      <td>131</td>\n",
       "    </tr>\n",
       "    <tr>\n",
       "      <th>1</th>\n",
       "      <td>12S131</td>\n",
       "      <td>2/23/2012</td>\n",
       "      <td>1</td>\n",
       "      <td>9.7</td>\n",
       "      <td>131</td>\n",
       "    </tr>\n",
       "    <tr>\n",
       "      <th>2</th>\n",
       "      <td>12S131</td>\n",
       "      <td>2/23/2012</td>\n",
       "      <td>2</td>\n",
       "      <td>3.8</td>\n",
       "      <td>131</td>\n",
       "    </tr>\n",
       "    <tr>\n",
       "      <th>3</th>\n",
       "      <td>12S131</td>\n",
       "      <td>2/23/2012</td>\n",
       "      <td>3</td>\n",
       "      <td>0.0</td>\n",
       "      <td>131</td>\n",
       "    </tr>\n",
       "    <tr>\n",
       "      <th>4</th>\n",
       "      <td>12S131</td>\n",
       "      <td>2/23/2012</td>\n",
       "      <td>4</td>\n",
       "      <td>0.0</td>\n",
       "      <td>131</td>\n",
       "    </tr>\n",
       "  </tbody>\n",
       "</table>\n",
       "</div>"
      ],
      "text/plain": [
       "  Keycode       Date  Hour  TOTAL (GAL/HOUR) Code\n",
       "0  12S131  2/23/2012     0              12.8  131\n",
       "1  12S131  2/23/2012     1               9.7  131\n",
       "2  12S131  2/23/2012     2               3.8  131\n",
       "3  12S131  2/23/2012     3               0.0  131\n",
       "4  12S131  2/23/2012     4               0.0  131"
      ]
     },
     "execution_count": 106,
     "metadata": {},
     "output_type": "execute_result"
    }
   ],
   "source": [
    "hourly_indoor.head()"
   ]
  },
  {
   "cell_type": "code",
   "execution_count": 107,
   "metadata": {},
   "outputs": [
    {
     "data": {
      "text/html": [
       "<div>\n",
       "<style scoped>\n",
       "    .dataframe tbody tr th:only-of-type {\n",
       "        vertical-align: middle;\n",
       "    }\n",
       "\n",
       "    .dataframe tbody tr th {\n",
       "        vertical-align: top;\n",
       "    }\n",
       "\n",
       "    .dataframe thead th {\n",
       "        text-align: right;\n",
       "    }\n",
       "</style>\n",
       "<table border=\"1\" class=\"dataframe\">\n",
       "  <thead>\n",
       "    <tr style=\"text-align: right;\">\n",
       "      <th></th>\n",
       "      <th>Keycode</th>\n",
       "      <th>Date</th>\n",
       "      <th>Hour</th>\n",
       "      <th>TOTAL (GAL/HOUR)</th>\n",
       "      <th>Code</th>\n",
       "    </tr>\n",
       "  </thead>\n",
       "  <tbody>\n",
       "    <tr>\n",
       "      <th>0</th>\n",
       "      <td>12S131</td>\n",
       "      <td>2/23/2012</td>\n",
       "      <td>0</td>\n",
       "      <td>12.8</td>\n",
       "      <td>131</td>\n",
       "    </tr>\n",
       "    <tr>\n",
       "      <th>1</th>\n",
       "      <td>12S131</td>\n",
       "      <td>2/23/2012</td>\n",
       "      <td>1</td>\n",
       "      <td>9.7</td>\n",
       "      <td>131</td>\n",
       "    </tr>\n",
       "    <tr>\n",
       "      <th>2</th>\n",
       "      <td>12S131</td>\n",
       "      <td>2/23/2012</td>\n",
       "      <td>2</td>\n",
       "      <td>3.8</td>\n",
       "      <td>131</td>\n",
       "    </tr>\n",
       "    <tr>\n",
       "      <th>3</th>\n",
       "      <td>12S131</td>\n",
       "      <td>2/23/2012</td>\n",
       "      <td>3</td>\n",
       "      <td>0.0</td>\n",
       "      <td>131</td>\n",
       "    </tr>\n",
       "    <tr>\n",
       "      <th>4</th>\n",
       "      <td>12S131</td>\n",
       "      <td>2/23/2012</td>\n",
       "      <td>4</td>\n",
       "      <td>0.0</td>\n",
       "      <td>131</td>\n",
       "    </tr>\n",
       "  </tbody>\n",
       "</table>\n",
       "</div>"
      ],
      "text/plain": [
       "  Keycode       Date  Hour  TOTAL (GAL/HOUR) Code\n",
       "0  12S131  2/23/2012     0              12.8  131\n",
       "1  12S131  2/23/2012     1               9.7  131\n",
       "2  12S131  2/23/2012     2               3.8  131\n",
       "3  12S131  2/23/2012     3               0.0  131\n",
       "4  12S131  2/23/2012     4               0.0  131"
      ]
     },
     "execution_count": 107,
     "metadata": {},
     "output_type": "execute_result"
    }
   ],
   "source": [
    "hourly_indoor.head()"
   ]
  },
  {
   "cell_type": "code",
   "execution_count": 244,
   "metadata": {},
   "outputs": [],
   "source": [
    "daily_indoor = daily_8[daily_8['OUTDOOR'] == 0]\n",
    "daily_indoor = daily_indoor.drop(['Unique'],axis=1)"
   ]
  },
  {
   "cell_type": "code",
   "execution_count": 245,
   "metadata": {},
   "outputs": [
    {
     "data": {
      "text/html": [
       "<div>\n",
       "<style scoped>\n",
       "    .dataframe tbody tr th:only-of-type {\n",
       "        vertical-align: middle;\n",
       "    }\n",
       "\n",
       "    .dataframe tbody tr th {\n",
       "        vertical-align: top;\n",
       "    }\n",
       "\n",
       "    .dataframe thead th {\n",
       "        text-align: right;\n",
       "    }\n",
       "</style>\n",
       "<table border=\"1\" class=\"dataframe\">\n",
       "  <thead>\n",
       "    <tr style=\"text-align: right;\">\n",
       "      <th></th>\n",
       "      <th>Keycode</th>\n",
       "      <th>Date</th>\n",
       "      <th>INDOOR</th>\n",
       "      <th>OUTDOOR</th>\n",
       "      <th>TOTAL</th>\n",
       "    </tr>\n",
       "  </thead>\n",
       "  <tbody>\n",
       "    <tr>\n",
       "      <th>0</th>\n",
       "      <td>12S1003</td>\n",
       "      <td>10/26/2012</td>\n",
       "      <td>118.40</td>\n",
       "      <td>0.0</td>\n",
       "      <td>118.40</td>\n",
       "    </tr>\n",
       "    <tr>\n",
       "      <th>1</th>\n",
       "      <td>12S1003</td>\n",
       "      <td>10/27/2012</td>\n",
       "      <td>63.42</td>\n",
       "      <td>0.0</td>\n",
       "      <td>63.42</td>\n",
       "    </tr>\n",
       "    <tr>\n",
       "      <th>2</th>\n",
       "      <td>12S1003</td>\n",
       "      <td>10/28/2012</td>\n",
       "      <td>186.26</td>\n",
       "      <td>0.0</td>\n",
       "      <td>186.26</td>\n",
       "    </tr>\n",
       "    <tr>\n",
       "      <th>3</th>\n",
       "      <td>12S1003</td>\n",
       "      <td>10/29/2012</td>\n",
       "      <td>108.28</td>\n",
       "      <td>0.0</td>\n",
       "      <td>108.28</td>\n",
       "    </tr>\n",
       "    <tr>\n",
       "      <th>4</th>\n",
       "      <td>12S1003</td>\n",
       "      <td>10/30/2012</td>\n",
       "      <td>113.72</td>\n",
       "      <td>0.0</td>\n",
       "      <td>113.72</td>\n",
       "    </tr>\n",
       "  </tbody>\n",
       "</table>\n",
       "</div>"
      ],
      "text/plain": [
       "   Keycode        Date  INDOOR  OUTDOOR   TOTAL\n",
       "0  12S1003  10/26/2012  118.40      0.0  118.40\n",
       "1  12S1003  10/27/2012   63.42      0.0   63.42\n",
       "2  12S1003  10/28/2012  186.26      0.0  186.26\n",
       "3  12S1003  10/29/2012  108.28      0.0  108.28\n",
       "4  12S1003  10/30/2012  113.72      0.0  113.72"
      ]
     },
     "execution_count": 245,
     "metadata": {},
     "output_type": "execute_result"
    }
   ],
   "source": [
    "daily_indoor.head()"
   ]
  },
  {
   "cell_type": "markdown",
   "metadata": {},
   "source": [
    "#### 2. DAILY and HOURLY datasets with both **indoor** and **outdoor** data. "
   ]
  },
  {
   "cell_type": "code",
   "execution_count": 114,
   "metadata": {},
   "outputs": [],
   "source": [
    "daily_6 = daily_6.drop(['Unique'],axis=1)\n",
    "daily_indoor_outdoor = daily_6[daily_6['OUTDOOR'] != 0]"
   ]
  },
  {
   "cell_type": "code",
   "execution_count": 115,
   "metadata": {},
   "outputs": [
    {
     "data": {
      "text/html": [
       "<div>\n",
       "<style scoped>\n",
       "    .dataframe tbody tr th:only-of-type {\n",
       "        vertical-align: middle;\n",
       "    }\n",
       "\n",
       "    .dataframe tbody tr th {\n",
       "        vertical-align: top;\n",
       "    }\n",
       "\n",
       "    .dataframe thead th {\n",
       "        text-align: right;\n",
       "    }\n",
       "</style>\n",
       "<table border=\"1\" class=\"dataframe\">\n",
       "  <thead>\n",
       "    <tr style=\"text-align: right;\">\n",
       "      <th></th>\n",
       "      <th>Keycode</th>\n",
       "      <th>Date</th>\n",
       "      <th>INDOOR</th>\n",
       "      <th>OUTDOOR</th>\n",
       "      <th>TOTAL</th>\n",
       "    </tr>\n",
       "  </thead>\n",
       "  <tbody>\n",
       "    <tr>\n",
       "      <th>0</th>\n",
       "      <td>12S131</td>\n",
       "      <td>2/28/2012</td>\n",
       "      <td>111.96</td>\n",
       "      <td>62.39</td>\n",
       "      <td>174.34</td>\n",
       "    </tr>\n",
       "    <tr>\n",
       "      <th>1</th>\n",
       "      <td>12S131</td>\n",
       "      <td>3/1/2012</td>\n",
       "      <td>104.79</td>\n",
       "      <td>65.91</td>\n",
       "      <td>170.70</td>\n",
       "    </tr>\n",
       "    <tr>\n",
       "      <th>2</th>\n",
       "      <td>12S131</td>\n",
       "      <td>3/4/2012</td>\n",
       "      <td>288.58</td>\n",
       "      <td>76.99</td>\n",
       "      <td>365.58</td>\n",
       "    </tr>\n",
       "    <tr>\n",
       "      <th>3</th>\n",
       "      <td>12S131</td>\n",
       "      <td>3/6/2012</td>\n",
       "      <td>85.55</td>\n",
       "      <td>52.20</td>\n",
       "      <td>137.75</td>\n",
       "    </tr>\n",
       "    <tr>\n",
       "      <th>4</th>\n",
       "      <td>12S134</td>\n",
       "      <td>3/3/2012</td>\n",
       "      <td>96.88</td>\n",
       "      <td>59.12</td>\n",
       "      <td>156.00</td>\n",
       "    </tr>\n",
       "  </tbody>\n",
       "</table>\n",
       "</div>"
      ],
      "text/plain": [
       "  Keycode       Date  INDOOR  OUTDOOR   TOTAL\n",
       "0  12S131  2/28/2012  111.96    62.39  174.34\n",
       "1  12S131   3/1/2012  104.79    65.91  170.70\n",
       "2  12S131   3/4/2012  288.58    76.99  365.58\n",
       "3  12S131   3/6/2012   85.55    52.20  137.75\n",
       "4  12S134   3/3/2012   96.88    59.12  156.00"
      ]
     },
     "execution_count": 115,
     "metadata": {},
     "output_type": "execute_result"
    }
   ],
   "source": [
    "daily_indoor_outdoor.head()"
   ]
  },
  {
   "cell_type": "code",
   "execution_count": 116,
   "metadata": {},
   "outputs": [],
   "source": [
    "hourly_7 = hourly_5.drop(['Unique'],axis=1)\n",
    "hourly_indoor_outdoor = hourly_7"
   ]
  },
  {
   "cell_type": "code",
   "execution_count": 117,
   "metadata": {},
   "outputs": [
    {
     "data": {
      "text/html": [
       "<div>\n",
       "<style scoped>\n",
       "    .dataframe tbody tr th:only-of-type {\n",
       "        vertical-align: middle;\n",
       "    }\n",
       "\n",
       "    .dataframe tbody tr th {\n",
       "        vertical-align: top;\n",
       "    }\n",
       "\n",
       "    .dataframe thead th {\n",
       "        text-align: right;\n",
       "    }\n",
       "</style>\n",
       "<table border=\"1\" class=\"dataframe\">\n",
       "  <thead>\n",
       "    <tr style=\"text-align: right;\">\n",
       "      <th></th>\n",
       "      <th>Keycode</th>\n",
       "      <th>Date</th>\n",
       "      <th>Hour</th>\n",
       "      <th>TOTAL (GAL/HOUR)</th>\n",
       "    </tr>\n",
       "  </thead>\n",
       "  <tbody>\n",
       "    <tr>\n",
       "      <th>120</th>\n",
       "      <td>12S131</td>\n",
       "      <td>2/28/2012</td>\n",
       "      <td>0</td>\n",
       "      <td>0.0</td>\n",
       "    </tr>\n",
       "    <tr>\n",
       "      <th>121</th>\n",
       "      <td>12S131</td>\n",
       "      <td>2/28/2012</td>\n",
       "      <td>1</td>\n",
       "      <td>0.0</td>\n",
       "    </tr>\n",
       "    <tr>\n",
       "      <th>122</th>\n",
       "      <td>12S131</td>\n",
       "      <td>2/28/2012</td>\n",
       "      <td>2</td>\n",
       "      <td>0.0</td>\n",
       "    </tr>\n",
       "    <tr>\n",
       "      <th>123</th>\n",
       "      <td>12S131</td>\n",
       "      <td>2/28/2012</td>\n",
       "      <td>3</td>\n",
       "      <td>0.0</td>\n",
       "    </tr>\n",
       "    <tr>\n",
       "      <th>124</th>\n",
       "      <td>12S131</td>\n",
       "      <td>2/28/2012</td>\n",
       "      <td>4</td>\n",
       "      <td>0.0</td>\n",
       "    </tr>\n",
       "  </tbody>\n",
       "</table>\n",
       "</div>"
      ],
      "text/plain": [
       "    Keycode       Date  Hour  TOTAL (GAL/HOUR)\n",
       "120  12S131  2/28/2012     0               0.0\n",
       "121  12S131  2/28/2012     1               0.0\n",
       "122  12S131  2/28/2012     2               0.0\n",
       "123  12S131  2/28/2012     3               0.0\n",
       "124  12S131  2/28/2012     4               0.0"
      ]
     },
     "execution_count": 117,
     "metadata": {},
     "output_type": "execute_result"
    }
   ],
   "source": [
    "hourly_indoor_outdoor.head()"
   ]
  },
  {
   "cell_type": "markdown",
   "metadata": {},
   "source": [
    "### **We can now save the 4 main sub-datasets:**"
   ]
  },
  {
   "cell_type": "markdown",
   "metadata": {},
   "source": [
    "#### 1. INDOOR ONLY DAILY"
   ]
  },
  {
   "cell_type": "code",
   "execution_count": 118,
   "metadata": {},
   "outputs": [],
   "source": [
    "daily_indoor.to_csv(path+'/1. EDA and Data Processing\\main datasets\\daily_IN.csv')"
   ]
  },
  {
   "cell_type": "markdown",
   "metadata": {},
   "source": [
    "#### 2. INDOOR ONLY HOURLY"
   ]
  },
  {
   "cell_type": "code",
   "execution_count": 119,
   "metadata": {},
   "outputs": [],
   "source": [
    "hourly_indoor.to_csv(path+'/1. EDA and Data Processing\\main datasets\\hourly_IN.csv')"
   ]
  },
  {
   "cell_type": "markdown",
   "metadata": {},
   "source": [
    "#### 3. INDOOR & OUTDOOR DAILY"
   ]
  },
  {
   "cell_type": "code",
   "execution_count": 120,
   "metadata": {},
   "outputs": [],
   "source": [
    "daily_indoor_outdoor.to_csv(path+'/1. EDA and Data Processing\\main datasets\\daily_IN_OUT.csv')"
   ]
  },
  {
   "cell_type": "markdown",
   "metadata": {},
   "source": [
    "#### 4. INDOOR & OUTDOOR HOURLY"
   ]
  },
  {
   "cell_type": "code",
   "execution_count": 206,
   "metadata": {},
   "outputs": [],
   "source": [
    "hourly_indoor_outdoor.to_csv(path+'/1. EDA and Data Processing\\main datasets\\hourly_IN_OUT.csv')"
   ]
  },
  {
   "cell_type": "markdown",
   "metadata": {},
   "source": [
    "### Now we need to separate them into water departments. "
   ]
  },
  {
   "cell_type": "markdown",
   "metadata": {},
   "source": [
    "#### 1. INDOOR ONLY DAILY"
   ]
  },
  {
   "cell_type": "code",
   "execution_count": 253,
   "metadata": {},
   "outputs": [],
   "source": [
    "daily_indoor_2=daily_indoor\n",
    "code = daily_indoor_2['Keycode'].str.replace(\"12s\",\"12S\").str.split(\"12S\", n = 1, expand = True)\n",
    "daily_indoor_2['Code']=code[1]"
   ]
  },
  {
   "cell_type": "code",
   "execution_count": 254,
   "metadata": {},
   "outputs": [
    {
     "data": {
      "text/html": [
       "<div>\n",
       "<style scoped>\n",
       "    .dataframe tbody tr th:only-of-type {\n",
       "        vertical-align: middle;\n",
       "    }\n",
       "\n",
       "    .dataframe tbody tr th {\n",
       "        vertical-align: top;\n",
       "    }\n",
       "\n",
       "    .dataframe thead th {\n",
       "        text-align: right;\n",
       "    }\n",
       "</style>\n",
       "<table border=\"1\" class=\"dataframe\">\n",
       "  <thead>\n",
       "    <tr style=\"text-align: right;\">\n",
       "      <th></th>\n",
       "      <th>Keycode</th>\n",
       "      <th>Date</th>\n",
       "      <th>INDOOR</th>\n",
       "      <th>OUTDOOR</th>\n",
       "      <th>TOTAL</th>\n",
       "      <th>Code</th>\n",
       "    </tr>\n",
       "  </thead>\n",
       "  <tbody>\n",
       "    <tr>\n",
       "      <th>0</th>\n",
       "      <td>12S1003</td>\n",
       "      <td>10/26/2012</td>\n",
       "      <td>118.40</td>\n",
       "      <td>0.0</td>\n",
       "      <td>118.40</td>\n",
       "      <td>1003</td>\n",
       "    </tr>\n",
       "    <tr>\n",
       "      <th>1</th>\n",
       "      <td>12S1003</td>\n",
       "      <td>10/27/2012</td>\n",
       "      <td>63.42</td>\n",
       "      <td>0.0</td>\n",
       "      <td>63.42</td>\n",
       "      <td>1003</td>\n",
       "    </tr>\n",
       "    <tr>\n",
       "      <th>2</th>\n",
       "      <td>12S1003</td>\n",
       "      <td>10/28/2012</td>\n",
       "      <td>186.26</td>\n",
       "      <td>0.0</td>\n",
       "      <td>186.26</td>\n",
       "      <td>1003</td>\n",
       "    </tr>\n",
       "    <tr>\n",
       "      <th>3</th>\n",
       "      <td>12S1003</td>\n",
       "      <td>10/29/2012</td>\n",
       "      <td>108.28</td>\n",
       "      <td>0.0</td>\n",
       "      <td>108.28</td>\n",
       "      <td>1003</td>\n",
       "    </tr>\n",
       "    <tr>\n",
       "      <th>4</th>\n",
       "      <td>12S1003</td>\n",
       "      <td>10/30/2012</td>\n",
       "      <td>113.72</td>\n",
       "      <td>0.0</td>\n",
       "      <td>113.72</td>\n",
       "      <td>1003</td>\n",
       "    </tr>\n",
       "  </tbody>\n",
       "</table>\n",
       "</div>"
      ],
      "text/plain": [
       "   Keycode        Date  INDOOR  OUTDOOR   TOTAL  Code\n",
       "0  12S1003  10/26/2012  118.40      0.0  118.40  1003\n",
       "1  12S1003  10/27/2012   63.42      0.0   63.42  1003\n",
       "2  12S1003  10/28/2012  186.26      0.0  186.26  1003\n",
       "3  12S1003  10/29/2012  108.28      0.0  108.28  1003\n",
       "4  12S1003  10/30/2012  113.72      0.0  113.72  1003"
      ]
     },
     "execution_count": 254,
     "metadata": {},
     "output_type": "execute_result"
    }
   ],
   "source": [
    "daily_indoor_2.head()"
   ]
  },
  {
   "cell_type": "code",
   "execution_count": 255,
   "metadata": {},
   "outputs": [
    {
     "name": "stdout",
     "output_type": "stream",
     "text": [
      "922\n"
     ]
    }
   ],
   "source": [
    "column=[]\n",
    "err=[]\n",
    "for i in range(0,len(daily_indoor_2)):\n",
    "    if 101 <= int(daily_indoor_2.iloc[i,-1]) <= 226:\n",
    "        column.append('Denver')\n",
    "    elif 230 <= int(daily_indoor_2.iloc[i,-1]) <= 360:\n",
    "        column.append('Fort Collins')\n",
    "    elif 370 <= int(daily_indoor_2.iloc[i,-1]) <= 489:\n",
    "        column.append('Scottsdale')\n",
    "    elif 500 <= int(daily_indoor_2.iloc[i,-1]) <= 609:\n",
    "        column.append('San Antonio')\n",
    "    elif 701 <= int(daily_indoor_2.iloc[i,-1]) <= 810:\n",
    "        column.append('Clayton')\n",
    "    elif 820 <= int(daily_indoor_2.iloc[i,-1]) <= 917:\n",
    "        column.append('Toho')\n",
    "    elif 1001 <= int(daily_indoor_2.iloc[i,-1]) <= 1122:\n",
    "        column.append('Peel')\n",
    "    else: \n",
    "        err.append(i)\n",
    "print(len(err))"
   ]
  },
  {
   "cell_type": "code",
   "execution_count": 256,
   "metadata": {},
   "outputs": [
    {
     "data": {
      "text/plain": [
       "4692"
      ]
     },
     "execution_count": 256,
     "metadata": {},
     "output_type": "execute_result"
    }
   ],
   "source": [
    "len(daily_indoor_2)"
   ]
  },
  {
   "cell_type": "markdown",
   "metadata": {},
   "source": [
    "### There are 922 instances that are not associated with any water department. "
   ]
  },
  {
   "cell_type": "code",
   "execution_count": 257,
   "metadata": {},
   "outputs": [
    {
     "data": {
      "text/html": [
       "<div>\n",
       "<style scoped>\n",
       "    .dataframe tbody tr th:only-of-type {\n",
       "        vertical-align: middle;\n",
       "    }\n",
       "\n",
       "    .dataframe tbody tr th {\n",
       "        vertical-align: top;\n",
       "    }\n",
       "\n",
       "    .dataframe thead th {\n",
       "        text-align: right;\n",
       "    }\n",
       "</style>\n",
       "<table border=\"1\" class=\"dataframe\">\n",
       "  <thead>\n",
       "    <tr style=\"text-align: right;\">\n",
       "      <th></th>\n",
       "      <th>Keycode</th>\n",
       "      <th>Date</th>\n",
       "      <th>INDOOR</th>\n",
       "      <th>OUTDOOR</th>\n",
       "      <th>TOTAL</th>\n",
       "      <th>Code</th>\n",
       "    </tr>\n",
       "  </thead>\n",
       "  <tbody>\n",
       "    <tr>\n",
       "      <th>0</th>\n",
       "      <td>12S1003</td>\n",
       "      <td>10/26/2012</td>\n",
       "      <td>118.40</td>\n",
       "      <td>0.0</td>\n",
       "      <td>118.40</td>\n",
       "      <td>1003</td>\n",
       "    </tr>\n",
       "    <tr>\n",
       "      <th>1</th>\n",
       "      <td>12S1003</td>\n",
       "      <td>10/27/2012</td>\n",
       "      <td>63.42</td>\n",
       "      <td>0.0</td>\n",
       "      <td>63.42</td>\n",
       "      <td>1003</td>\n",
       "    </tr>\n",
       "    <tr>\n",
       "      <th>2</th>\n",
       "      <td>12S1003</td>\n",
       "      <td>10/28/2012</td>\n",
       "      <td>186.26</td>\n",
       "      <td>0.0</td>\n",
       "      <td>186.26</td>\n",
       "      <td>1003</td>\n",
       "    </tr>\n",
       "    <tr>\n",
       "      <th>3</th>\n",
       "      <td>12S1003</td>\n",
       "      <td>10/29/2012</td>\n",
       "      <td>108.28</td>\n",
       "      <td>0.0</td>\n",
       "      <td>108.28</td>\n",
       "      <td>1003</td>\n",
       "    </tr>\n",
       "    <tr>\n",
       "      <th>4</th>\n",
       "      <td>12S1003</td>\n",
       "      <td>10/30/2012</td>\n",
       "      <td>113.72</td>\n",
       "      <td>0.0</td>\n",
       "      <td>113.72</td>\n",
       "      <td>1003</td>\n",
       "    </tr>\n",
       "  </tbody>\n",
       "</table>\n",
       "</div>"
      ],
      "text/plain": [
       "   Keycode        Date  INDOOR  OUTDOOR   TOTAL  Code\n",
       "0  12S1003  10/26/2012  118.40      0.0  118.40  1003\n",
       "1  12S1003  10/27/2012   63.42      0.0   63.42  1003\n",
       "2  12S1003  10/28/2012  186.26      0.0  186.26  1003\n",
       "3  12S1003  10/29/2012  108.28      0.0  108.28  1003\n",
       "4  12S1003  10/30/2012  113.72      0.0  113.72  1003"
      ]
     },
     "execution_count": 257,
     "metadata": {},
     "output_type": "execute_result"
    }
   ],
   "source": [
    "daily_indoor_2.head()"
   ]
  },
  {
   "cell_type": "code",
   "execution_count": 258,
   "metadata": {},
   "outputs": [
    {
     "name": "stderr",
     "output_type": "stream",
     "text": [
      "C:\\Users\\rodcan\\miniconda3\\lib\\site-packages\\pandas\\core\\indexing.py:671: SettingWithCopyWarning: \n",
      "A value is trying to be set on a copy of a slice from a DataFrame\n",
      "\n",
      "See the caveats in the documentation: https://pandas.pydata.org/pandas-docs/stable/user_guide/indexing.html#returning-a-view-versus-a-copy\n",
      "  self._setitem_with_indexer(indexer, value)\n"
     ]
    }
   ],
   "source": [
    "daily_indoor_3=daily_indoor_2\n",
    "daily_indoor_3['Drop']=np.nan\n",
    "for i in err:\n",
    "    daily_indoor_3['Drop'].iloc[i]='drop-me'"
   ]
  },
  {
   "cell_type": "code",
   "execution_count": 259,
   "metadata": {},
   "outputs": [
    {
     "name": "stdout",
     "output_type": "stream",
     "text": [
      "3770\n",
      "3770\n"
     ]
    }
   ],
   "source": [
    "# REMOVE THE OUTLIERS\n",
    "daily_indoor_4 = daily_indoor_3[~daily_indoor_3.Drop.isin(['drop-me'])]\n",
    "# daily_indoor_3 = daily_indoor_3.drop(daily_indoor_3.index[err[0]:err[-1]+1])\n",
    "print(len(column))\n",
    "print(len(daily_indoor_4))"
   ]
  },
  {
   "cell_type": "code",
   "execution_count": 260,
   "metadata": {},
   "outputs": [
    {
     "name": "stderr",
     "output_type": "stream",
     "text": [
      "C:\\Users\\rodcan\\miniconda3\\lib\\site-packages\\ipykernel_launcher.py:2: SettingWithCopyWarning: \n",
      "A value is trying to be set on a copy of a slice from a DataFrame.\n",
      "Try using .loc[row_indexer,col_indexer] = value instead\n",
      "\n",
      "See the caveats in the documentation: https://pandas.pydata.org/pandas-docs/stable/user_guide/indexing.html#returning-a-view-versus-a-copy\n",
      "  \n"
     ]
    },
    {
     "data": {
      "text/html": [
       "<div>\n",
       "<style scoped>\n",
       "    .dataframe tbody tr th:only-of-type {\n",
       "        vertical-align: middle;\n",
       "    }\n",
       "\n",
       "    .dataframe tbody tr th {\n",
       "        vertical-align: top;\n",
       "    }\n",
       "\n",
       "    .dataframe thead th {\n",
       "        text-align: right;\n",
       "    }\n",
       "</style>\n",
       "<table border=\"1\" class=\"dataframe\">\n",
       "  <thead>\n",
       "    <tr style=\"text-align: right;\">\n",
       "      <th></th>\n",
       "      <th>wadept</th>\n",
       "      <th>Keycode</th>\n",
       "      <th>Date</th>\n",
       "      <th>INDOOR</th>\n",
       "      <th>OUTDOOR</th>\n",
       "      <th>TOTAL</th>\n",
       "    </tr>\n",
       "  </thead>\n",
       "  <tbody>\n",
       "    <tr>\n",
       "      <th>0</th>\n",
       "      <td>Peel</td>\n",
       "      <td>12S1003</td>\n",
       "      <td>10/26/2012</td>\n",
       "      <td>118.40</td>\n",
       "      <td>0.0</td>\n",
       "      <td>118.40</td>\n",
       "    </tr>\n",
       "    <tr>\n",
       "      <th>1</th>\n",
       "      <td>Peel</td>\n",
       "      <td>12S1003</td>\n",
       "      <td>10/27/2012</td>\n",
       "      <td>63.42</td>\n",
       "      <td>0.0</td>\n",
       "      <td>63.42</td>\n",
       "    </tr>\n",
       "    <tr>\n",
       "      <th>2</th>\n",
       "      <td>Peel</td>\n",
       "      <td>12S1003</td>\n",
       "      <td>10/28/2012</td>\n",
       "      <td>186.26</td>\n",
       "      <td>0.0</td>\n",
       "      <td>186.26</td>\n",
       "    </tr>\n",
       "    <tr>\n",
       "      <th>3</th>\n",
       "      <td>Peel</td>\n",
       "      <td>12S1003</td>\n",
       "      <td>10/29/2012</td>\n",
       "      <td>108.28</td>\n",
       "      <td>0.0</td>\n",
       "      <td>108.28</td>\n",
       "    </tr>\n",
       "    <tr>\n",
       "      <th>4</th>\n",
       "      <td>Peel</td>\n",
       "      <td>12S1003</td>\n",
       "      <td>10/30/2012</td>\n",
       "      <td>113.72</td>\n",
       "      <td>0.0</td>\n",
       "      <td>113.72</td>\n",
       "    </tr>\n",
       "  </tbody>\n",
       "</table>\n",
       "</div>"
      ],
      "text/plain": [
       "  wadept  Keycode        Date  INDOOR  OUTDOOR   TOTAL\n",
       "0   Peel  12S1003  10/26/2012  118.40      0.0  118.40\n",
       "1   Peel  12S1003  10/27/2012   63.42      0.0   63.42\n",
       "2   Peel  12S1003  10/28/2012  186.26      0.0  186.26\n",
       "3   Peel  12S1003  10/29/2012  108.28      0.0  108.28\n",
       "4   Peel  12S1003  10/30/2012  113.72      0.0  113.72"
      ]
     },
     "execution_count": 260,
     "metadata": {},
     "output_type": "execute_result"
    }
   ],
   "source": [
    "# ADD THE wadept ATTRIBUTE\n",
    "daily_indoor_4['wadept']=column\n",
    "# REMOVE THE Code AND Drop ATTRIBUTES\n",
    "daily_indoor_4=daily_indoor_4.drop('Code', axis=1)\n",
    "daily_indoor_4=daily_indoor_4.drop('Drop', axis=1)\n",
    "# REARANGE THE COLUMNS\n",
    "df=daily_indoor_4\n",
    "first = df['wadept']\n",
    "df.drop(labels=['wadept'], axis=1,inplace = True)\n",
    "df.insert(0, 'wadept', first)\n",
    "daily_indoor_5=df\n",
    "daily_indoor_5.head()"
   ]
  },
  {
   "cell_type": "markdown",
   "metadata": {},
   "source": [
    "#### 2. INDOOR ONLY HOURLY"
   ]
  },
  {
   "cell_type": "code",
   "execution_count": 207,
   "metadata": {},
   "outputs": [],
   "source": [
    "code = hourly_indoor['Keycode'].str.split(\"12S\", n = 1, expand = True)\n",
    "hourly_indoor_2=hourly_indoor\n",
    "hourly_indoor_2['Code']=code[1]"
   ]
  },
  {
   "cell_type": "code",
   "execution_count": 208,
   "metadata": {},
   "outputs": [
    {
     "data": {
      "text/html": [
       "<div>\n",
       "<style scoped>\n",
       "    .dataframe tbody tr th:only-of-type {\n",
       "        vertical-align: middle;\n",
       "    }\n",
       "\n",
       "    .dataframe tbody tr th {\n",
       "        vertical-align: top;\n",
       "    }\n",
       "\n",
       "    .dataframe thead th {\n",
       "        text-align: right;\n",
       "    }\n",
       "</style>\n",
       "<table border=\"1\" class=\"dataframe\">\n",
       "  <thead>\n",
       "    <tr style=\"text-align: right;\">\n",
       "      <th></th>\n",
       "      <th>Keycode</th>\n",
       "      <th>Date</th>\n",
       "      <th>Hour</th>\n",
       "      <th>TOTAL (GAL/HOUR)</th>\n",
       "      <th>Code</th>\n",
       "    </tr>\n",
       "  </thead>\n",
       "  <tbody>\n",
       "    <tr>\n",
       "      <th>0</th>\n",
       "      <td>12S131</td>\n",
       "      <td>2/23/2012</td>\n",
       "      <td>0</td>\n",
       "      <td>12.8</td>\n",
       "      <td>131</td>\n",
       "    </tr>\n",
       "    <tr>\n",
       "      <th>1</th>\n",
       "      <td>12S131</td>\n",
       "      <td>2/23/2012</td>\n",
       "      <td>1</td>\n",
       "      <td>9.7</td>\n",
       "      <td>131</td>\n",
       "    </tr>\n",
       "    <tr>\n",
       "      <th>2</th>\n",
       "      <td>12S131</td>\n",
       "      <td>2/23/2012</td>\n",
       "      <td>2</td>\n",
       "      <td>3.8</td>\n",
       "      <td>131</td>\n",
       "    </tr>\n",
       "    <tr>\n",
       "      <th>3</th>\n",
       "      <td>12S131</td>\n",
       "      <td>2/23/2012</td>\n",
       "      <td>3</td>\n",
       "      <td>0.0</td>\n",
       "      <td>131</td>\n",
       "    </tr>\n",
       "    <tr>\n",
       "      <th>4</th>\n",
       "      <td>12S131</td>\n",
       "      <td>2/23/2012</td>\n",
       "      <td>4</td>\n",
       "      <td>0.0</td>\n",
       "      <td>131</td>\n",
       "    </tr>\n",
       "  </tbody>\n",
       "</table>\n",
       "</div>"
      ],
      "text/plain": [
       "  Keycode       Date  Hour  TOTAL (GAL/HOUR) Code\n",
       "0  12S131  2/23/2012     0              12.8  131\n",
       "1  12S131  2/23/2012     1               9.7  131\n",
       "2  12S131  2/23/2012     2               3.8  131\n",
       "3  12S131  2/23/2012     3               0.0  131\n",
       "4  12S131  2/23/2012     4               0.0  131"
      ]
     },
     "execution_count": 208,
     "metadata": {},
     "output_type": "execute_result"
    }
   ],
   "source": [
    "hourly_indoor_2.head()"
   ]
  },
  {
   "cell_type": "code",
   "execution_count": 189,
   "metadata": {},
   "outputs": [
    {
     "name": "stdout",
     "output_type": "stream",
     "text": [
      "120\n"
     ]
    }
   ],
   "source": [
    "column=[]\n",
    "err=[]\n",
    "for i in range(0,len(hourly_indoor_2)):\n",
    "    if 101 <= int(hourly_indoor_2.iloc[i,-1]) <= 226:\n",
    "        column.append('Denver')\n",
    "    elif 230 <= int(hourly_indoor_2.iloc[i,-1]) <= 360:\n",
    "        column.append('Fort Collins')\n",
    "    elif 370 <= int(hourly_indoor_2.iloc[i,-1]) <= 489:\n",
    "        column.append('Scottsdale')\n",
    "    elif 500 <= int(hourly_indoor_2.iloc[i,-1]) <= 609:\n",
    "        column.append('San Antonio')\n",
    "    elif 701 <= int(hourly_indoor_2.iloc[i,-1]) <= 810:\n",
    "        column.append('Clayton')\n",
    "    elif 820 <= int(hourly_indoor_2.iloc[i,-1]) <= 917:\n",
    "        column.append('Toho')\n",
    "    elif 1001 <= int(hourly_indoor_2.iloc[i,-1]) <= 1122:\n",
    "        column.append('Peel')\n",
    "    else: \n",
    "        err.append(i)\n",
    "print(len(err))"
   ]
  },
  {
   "cell_type": "markdown",
   "metadata": {},
   "source": [
    "### There are 120 instances that are not associated with any water department. "
   ]
  },
  {
   "cell_type": "code",
   "execution_count": 190,
   "metadata": {},
   "outputs": [
    {
     "name": "stdout",
     "output_type": "stream",
     "text": [
      "35678\n",
      "35678\n"
     ]
    }
   ],
   "source": [
    "# REMOVE THE OUTLIERS\n",
    "hourly_indoor_3 = hourly_indoor_2.drop(hourly_indoor_2.index[err[0]:err[-1]+1])\n",
    "print(len(column))\n",
    "print(len(hourly_indoor_3))"
   ]
  },
  {
   "cell_type": "code",
   "execution_count": 191,
   "metadata": {},
   "outputs": [
    {
     "data": {
      "text/html": [
       "<div>\n",
       "<style scoped>\n",
       "    .dataframe tbody tr th:only-of-type {\n",
       "        vertical-align: middle;\n",
       "    }\n",
       "\n",
       "    .dataframe tbody tr th {\n",
       "        vertical-align: top;\n",
       "    }\n",
       "\n",
       "    .dataframe thead th {\n",
       "        text-align: right;\n",
       "    }\n",
       "</style>\n",
       "<table border=\"1\" class=\"dataframe\">\n",
       "  <thead>\n",
       "    <tr style=\"text-align: right;\">\n",
       "      <th></th>\n",
       "      <th>wadept</th>\n",
       "      <th>Keycode</th>\n",
       "      <th>Date</th>\n",
       "      <th>Hour</th>\n",
       "      <th>TOTAL (GAL/HOUR)</th>\n",
       "    </tr>\n",
       "  </thead>\n",
       "  <tbody>\n",
       "    <tr>\n",
       "      <th>0</th>\n",
       "      <td>Denver</td>\n",
       "      <td>12S131</td>\n",
       "      <td>2/23/2012</td>\n",
       "      <td>0</td>\n",
       "      <td>12.8</td>\n",
       "    </tr>\n",
       "    <tr>\n",
       "      <th>1</th>\n",
       "      <td>Denver</td>\n",
       "      <td>12S131</td>\n",
       "      <td>2/23/2012</td>\n",
       "      <td>1</td>\n",
       "      <td>9.7</td>\n",
       "    </tr>\n",
       "    <tr>\n",
       "      <th>2</th>\n",
       "      <td>Denver</td>\n",
       "      <td>12S131</td>\n",
       "      <td>2/23/2012</td>\n",
       "      <td>2</td>\n",
       "      <td>3.8</td>\n",
       "    </tr>\n",
       "    <tr>\n",
       "      <th>3</th>\n",
       "      <td>Denver</td>\n",
       "      <td>12S131</td>\n",
       "      <td>2/23/2012</td>\n",
       "      <td>3</td>\n",
       "      <td>0.0</td>\n",
       "    </tr>\n",
       "    <tr>\n",
       "      <th>4</th>\n",
       "      <td>Denver</td>\n",
       "      <td>12S131</td>\n",
       "      <td>2/23/2012</td>\n",
       "      <td>4</td>\n",
       "      <td>0.0</td>\n",
       "    </tr>\n",
       "  </tbody>\n",
       "</table>\n",
       "</div>"
      ],
      "text/plain": [
       "   wadept Keycode       Date  Hour  TOTAL (GAL/HOUR)\n",
       "0  Denver  12S131  2/23/2012     0              12.8\n",
       "1  Denver  12S131  2/23/2012     1               9.7\n",
       "2  Denver  12S131  2/23/2012     2               3.8\n",
       "3  Denver  12S131  2/23/2012     3               0.0\n",
       "4  Denver  12S131  2/23/2012     4               0.0"
      ]
     },
     "execution_count": 191,
     "metadata": {},
     "output_type": "execute_result"
    }
   ],
   "source": [
    "# ADD THE wadept ATTRIBUTE\n",
    "hourly_indoor_3['wadept']=column\n",
    "# REMOVE THE Code ATTRIBUTE\n",
    "hourly_indoor_3=hourly_indoor_3.drop('Code', axis=1)\n",
    "# REARANGE THE COLUMNS\n",
    "df=hourly_indoor_3\n",
    "first = df['wadept']\n",
    "df.drop(labels=['wadept'], axis=1,inplace = True)\n",
    "df.insert(0, 'wadept', first)\n",
    "hourly_indoor_4=df\n",
    "hourly_indoor_4.head()"
   ]
  },
  {
   "cell_type": "markdown",
   "metadata": {},
   "source": [
    "#### 3. INDOOR & OUTDOOR DAILY"
   ]
  },
  {
   "cell_type": "code",
   "execution_count": 192,
   "metadata": {},
   "outputs": [],
   "source": [
    "code = daily_indoor_outdoor['Keycode'].str.split(\"12S\", n = 1, expand = True)\n",
    "daily_indoor_outdoor_2=daily_indoor_outdoor\n",
    "daily_indoor_outdoor_2['Code']=code[1]"
   ]
  },
  {
   "cell_type": "code",
   "execution_count": 193,
   "metadata": {},
   "outputs": [
    {
     "name": "stdout",
     "output_type": "stream",
     "text": [
      "6\n"
     ]
    }
   ],
   "source": [
    "column=[]\n",
    "err=[]\n",
    "for i in range(0,len(daily_indoor_outdoor_2)):\n",
    "    if 101 <= int(daily_indoor_outdoor_2.iloc[i,-1]) <= 226:\n",
    "        column.append('Denver')\n",
    "    elif 230 <= int(daily_indoor_outdoor_2.iloc[i,-1]) <= 360:\n",
    "        column.append('Fort Collins')\n",
    "    elif 370 <= int(daily_indoor_outdoor_2.iloc[i,-1]) <= 489:\n",
    "        column.append('Scottsdale')\n",
    "    elif 500 <= int(daily_indoor_outdoor_2.iloc[i,-1]) <= 609:\n",
    "        column.append('San Antonio')\n",
    "    elif 701 <= int(daily_indoor_outdoor_2.iloc[i,-1]) <= 810:\n",
    "        column.append('Clayton')\n",
    "    elif 820 <= int(daily_indoor_outdoor_2.iloc[i,-1]) <= 917:\n",
    "        column.append('Toho')\n",
    "    elif 1001 <= int(daily_indoor_outdoor_2.iloc[i,-1]) <= 1122:\n",
    "        column.append('Peel')\n",
    "    else: \n",
    "        err.append(i)\n",
    "print(len(err))"
   ]
  },
  {
   "cell_type": "markdown",
   "metadata": {},
   "source": [
    "### There are 6 instances that are not associated with any water department. "
   ]
  },
  {
   "cell_type": "code",
   "execution_count": 194,
   "metadata": {},
   "outputs": [
    {
     "name": "stdout",
     "output_type": "stream",
     "text": [
      "942\n",
      "942\n"
     ]
    }
   ],
   "source": [
    "# REMOVE THE OUTLIERS\n",
    "daily_indoor_outdoor_3 = daily_indoor_outdoor_2.drop(daily_indoor_outdoor_2.index[err[0]:err[-1]+1])\n",
    "print(len(column))\n",
    "print(len(daily_indoor_outdoor_3))"
   ]
  },
  {
   "cell_type": "code",
   "execution_count": 195,
   "metadata": {},
   "outputs": [
    {
     "data": {
      "text/html": [
       "<div>\n",
       "<style scoped>\n",
       "    .dataframe tbody tr th:only-of-type {\n",
       "        vertical-align: middle;\n",
       "    }\n",
       "\n",
       "    .dataframe tbody tr th {\n",
       "        vertical-align: top;\n",
       "    }\n",
       "\n",
       "    .dataframe thead th {\n",
       "        text-align: right;\n",
       "    }\n",
       "</style>\n",
       "<table border=\"1\" class=\"dataframe\">\n",
       "  <thead>\n",
       "    <tr style=\"text-align: right;\">\n",
       "      <th></th>\n",
       "      <th>wadept</th>\n",
       "      <th>Keycode</th>\n",
       "      <th>Date</th>\n",
       "      <th>INDOOR</th>\n",
       "      <th>OUTDOOR</th>\n",
       "      <th>TOTAL</th>\n",
       "    </tr>\n",
       "  </thead>\n",
       "  <tbody>\n",
       "    <tr>\n",
       "      <th>0</th>\n",
       "      <td>Denver</td>\n",
       "      <td>12S131</td>\n",
       "      <td>2/28/2012</td>\n",
       "      <td>111.96</td>\n",
       "      <td>62.39</td>\n",
       "      <td>174.34</td>\n",
       "    </tr>\n",
       "    <tr>\n",
       "      <th>1</th>\n",
       "      <td>Denver</td>\n",
       "      <td>12S131</td>\n",
       "      <td>3/1/2012</td>\n",
       "      <td>104.79</td>\n",
       "      <td>65.91</td>\n",
       "      <td>170.70</td>\n",
       "    </tr>\n",
       "    <tr>\n",
       "      <th>2</th>\n",
       "      <td>Denver</td>\n",
       "      <td>12S131</td>\n",
       "      <td>3/4/2012</td>\n",
       "      <td>288.58</td>\n",
       "      <td>76.99</td>\n",
       "      <td>365.58</td>\n",
       "    </tr>\n",
       "    <tr>\n",
       "      <th>3</th>\n",
       "      <td>Denver</td>\n",
       "      <td>12S131</td>\n",
       "      <td>3/6/2012</td>\n",
       "      <td>85.55</td>\n",
       "      <td>52.20</td>\n",
       "      <td>137.75</td>\n",
       "    </tr>\n",
       "    <tr>\n",
       "      <th>4</th>\n",
       "      <td>Denver</td>\n",
       "      <td>12S134</td>\n",
       "      <td>3/3/2012</td>\n",
       "      <td>96.88</td>\n",
       "      <td>59.12</td>\n",
       "      <td>156.00</td>\n",
       "    </tr>\n",
       "  </tbody>\n",
       "</table>\n",
       "</div>"
      ],
      "text/plain": [
       "   wadept Keycode       Date  INDOOR  OUTDOOR   TOTAL\n",
       "0  Denver  12S131  2/28/2012  111.96    62.39  174.34\n",
       "1  Denver  12S131   3/1/2012  104.79    65.91  170.70\n",
       "2  Denver  12S131   3/4/2012  288.58    76.99  365.58\n",
       "3  Denver  12S131   3/6/2012   85.55    52.20  137.75\n",
       "4  Denver  12S134   3/3/2012   96.88    59.12  156.00"
      ]
     },
     "execution_count": 195,
     "metadata": {},
     "output_type": "execute_result"
    }
   ],
   "source": [
    "# ADD THE wadept ATTRIBUTE\n",
    "daily_indoor_outdoor_3['wadept']=column\n",
    "# REMOVE THE Code ATTRIBUTE\n",
    "daily_indoor_outdoor_3=daily_indoor_outdoor_3.drop('Code', axis=1)\n",
    "# REARANGE THE COLUMNS\n",
    "df=daily_indoor_outdoor_3\n",
    "first = df['wadept']\n",
    "df.drop(labels=['wadept'], axis=1,inplace = True)\n",
    "df.insert(0, 'wadept', first)\n",
    "daily_indoor_outdoor_4=df\n",
    "daily_indoor_outdoor_4.head()"
   ]
  },
  {
   "cell_type": "markdown",
   "metadata": {},
   "source": [
    "#### 4. INDOOR & OUTDOOR HOURLY"
   ]
  },
  {
   "cell_type": "code",
   "execution_count": 210,
   "metadata": {},
   "outputs": [],
   "source": [
    "code = hourly_indoor_outdoor['Keycode'].str.split(\"12S\", n = 1, expand = True)\n",
    "hourly_indoor_outdoor_2=hourly_indoor_outdoor\n",
    "hourly_indoor_outdoor_2['Code']=code[1]"
   ]
  },
  {
   "cell_type": "code",
   "execution_count": 211,
   "metadata": {},
   "outputs": [
    {
     "name": "stdout",
     "output_type": "stream",
     "text": [
      "144\n"
     ]
    }
   ],
   "source": [
    "column=[]\n",
    "err=[]\n",
    "for i in range(0,len(hourly_indoor_outdoor_2)):\n",
    "    if 101 <= int(hourly_indoor_outdoor_2.iloc[i,-1]) <= 226:\n",
    "        column.append('Denver')\n",
    "    elif 230 <= int(hourly_indoor_outdoor_2.iloc[i,-1]) <= 360:\n",
    "        column.append('Fort Collins')\n",
    "    elif 370 <= int(hourly_indoor_outdoor_2.iloc[i,-1]) <= 489:\n",
    "        column.append('Scottsdale')\n",
    "    elif 500 <= int(hourly_indoor_outdoor_2.iloc[i,-1]) <= 609:\n",
    "        column.append('San Antonio')\n",
    "    elif 701 <= int(hourly_indoor_outdoor_2.iloc[i,-1]) <= 810:\n",
    "        column.append('Clayton')\n",
    "    elif 820 <= int(hourly_indoor_outdoor_2.iloc[i,-1]) <= 917:\n",
    "        column.append('Toho')\n",
    "    elif 1001 <= int(hourly_indoor_outdoor_2.iloc[i,-1]) <= 1122:\n",
    "        column.append('Peel')\n",
    "    else: \n",
    "        err.append(i)\n",
    "print(len(err))"
   ]
  },
  {
   "cell_type": "markdown",
   "metadata": {},
   "source": [
    "### There are 144 instances that are not associated with any water department. "
   ]
  },
  {
   "cell_type": "code",
   "execution_count": 213,
   "metadata": {},
   "outputs": [
    {
     "name": "stdout",
     "output_type": "stream",
     "text": [
      "22570\n",
      "22570\n"
     ]
    }
   ],
   "source": [
    "# REMOVE THE OUTLIERS\n",
    "hourly_indoor_outdoor_3 = hourly_indoor_outdoor_2.drop(hourly_indoor_outdoor_2.index[err[0]:err[-1]+1])\n",
    "print(len(column))\n",
    "print(len(hourly_indoor_outdoor_3)) "
   ]
  },
  {
   "cell_type": "code",
   "execution_count": 216,
   "metadata": {},
   "outputs": [
    {
     "data": {
      "text/html": [
       "<div>\n",
       "<style scoped>\n",
       "    .dataframe tbody tr th:only-of-type {\n",
       "        vertical-align: middle;\n",
       "    }\n",
       "\n",
       "    .dataframe tbody tr th {\n",
       "        vertical-align: top;\n",
       "    }\n",
       "\n",
       "    .dataframe thead th {\n",
       "        text-align: right;\n",
       "    }\n",
       "</style>\n",
       "<table border=\"1\" class=\"dataframe\">\n",
       "  <thead>\n",
       "    <tr style=\"text-align: right;\">\n",
       "      <th></th>\n",
       "      <th>wadept</th>\n",
       "      <th>Keycode</th>\n",
       "      <th>Date</th>\n",
       "      <th>Hour</th>\n",
       "      <th>TOTAL (GAL/HOUR)</th>\n",
       "    </tr>\n",
       "  </thead>\n",
       "  <tbody>\n",
       "    <tr>\n",
       "      <th>120</th>\n",
       "      <td>Denver</td>\n",
       "      <td>12S131</td>\n",
       "      <td>2/28/2012</td>\n",
       "      <td>0</td>\n",
       "      <td>0.0</td>\n",
       "    </tr>\n",
       "    <tr>\n",
       "      <th>121</th>\n",
       "      <td>Denver</td>\n",
       "      <td>12S131</td>\n",
       "      <td>2/28/2012</td>\n",
       "      <td>1</td>\n",
       "      <td>0.0</td>\n",
       "    </tr>\n",
       "    <tr>\n",
       "      <th>122</th>\n",
       "      <td>Denver</td>\n",
       "      <td>12S131</td>\n",
       "      <td>2/28/2012</td>\n",
       "      <td>2</td>\n",
       "      <td>0.0</td>\n",
       "    </tr>\n",
       "    <tr>\n",
       "      <th>123</th>\n",
       "      <td>Denver</td>\n",
       "      <td>12S131</td>\n",
       "      <td>2/28/2012</td>\n",
       "      <td>3</td>\n",
       "      <td>0.0</td>\n",
       "    </tr>\n",
       "    <tr>\n",
       "      <th>124</th>\n",
       "      <td>Denver</td>\n",
       "      <td>12S131</td>\n",
       "      <td>2/28/2012</td>\n",
       "      <td>4</td>\n",
       "      <td>0.0</td>\n",
       "    </tr>\n",
       "  </tbody>\n",
       "</table>\n",
       "</div>"
      ],
      "text/plain": [
       "     wadept Keycode       Date  Hour  TOTAL (GAL/HOUR)\n",
       "120  Denver  12S131  2/28/2012     0               0.0\n",
       "121  Denver  12S131  2/28/2012     1               0.0\n",
       "122  Denver  12S131  2/28/2012     2               0.0\n",
       "123  Denver  12S131  2/28/2012     3               0.0\n",
       "124  Denver  12S131  2/28/2012     4               0.0"
      ]
     },
     "execution_count": 216,
     "metadata": {},
     "output_type": "execute_result"
    }
   ],
   "source": [
    "# ADD THE wadept ATTRIBUTE\n",
    "hourly_indoor_outdoor_3['wadept']=column\n",
    "# REMOVE THE Code ATTRIBUTE\n",
    "# hourly_indoor_outdoor_3=hourly_indoor_outdoor_3.drop('Code', axis=1)\n",
    "# hourly_indoor_outdoor_3=hourly_indoor_outdoor_3.drop('Unique', axis=1)\n",
    "# REARANGE THE COLUMNS\n",
    "df=hourly_indoor_outdoor_3\n",
    "first = df['wadept']\n",
    "df.drop(labels=['wadept'], axis=1,inplace = True)\n",
    "df.insert(0, 'wadept', first)\n",
    "hourly_indoor_outdoor_4=df\n",
    "hourly_indoor_outdoor_4.head()"
   ]
  },
  {
   "cell_type": "markdown",
   "metadata": {},
   "source": [
    "## Now we save each water department data individually."
   ]
  },
  {
   "cell_type": "code",
   "execution_count": 179,
   "metadata": {},
   "outputs": [],
   "source": [
    "wadept = ['Denver',\"Fort Collins\",\"Scottsdale\",\"San Antonio\"]"
   ]
  },
  {
   "cell_type": "code",
   "execution_count": 280,
   "metadata": {},
   "outputs": [],
   "source": [
    "# INDOOR DAILY\n",
    "column = []\n",
    "for i in range(0,len(wadept)):\n",
    "    for j in range(0,len(daily_indoor_5)):\n",
    "        if daily_indoor_5.iloc[j,0]==wadept[i]:\n",
    "            column.append(daily_indoor_5.iloc[j,:])\n",
    "    pd.DataFrame(column).to_csv(r'G:\\My Drive\\MCI\\Proyecto de Investigacion\\Documentation\\UC Davis\\Water Disaggregation Algorithm\\1. EDA and Data Processing\\resulting datasets\\INDOOR DAILY/'+wadept[i]+'.csv', index=False)\n",
    "    column = []"
   ]
  },
  {
   "cell_type": "code",
   "execution_count": 262,
   "metadata": {},
   "outputs": [],
   "source": [
    "# INDOOR HOURLY\n",
    "column = []\n",
    "for i in range(0,len(wadept)):\n",
    "    for j in range(0,len(hourly_indoor_4)):\n",
    "        if hourly_indoor_4.iloc[j,0]==wadept[i]:\n",
    "            column.append(hourly_indoor_4.iloc[j,:])\n",
    "    pd.DataFrame(column).to_csv(r'G:\\My Drive\\MCI\\Proyecto de Investigacion\\Documentation\\UC Davis\\Water Disaggregation Algorithm\\1. EDA and Data Processing\\resulting datasets\\INDOOR HOURLY/'+wadept[i]+'.csv', index=False)\n",
    "    column = []"
   ]
  },
  {
   "cell_type": "code",
   "execution_count": 263,
   "metadata": {},
   "outputs": [],
   "source": [
    "# INDOOR OUTDOOR DAILY\n",
    "column = []\n",
    "for i in range(0,len(wadept)):\n",
    "    for j in range(0,len(daily_indoor_outdoor_4)):\n",
    "        if daily_indoor_outdoor_4.iloc[j,0]==wadept[i]:\n",
    "            column.append(daily_indoor_outdoor_4.iloc[j,:])\n",
    "    pd.DataFrame(column).to_csv(r'G:\\My Drive\\MCI\\Proyecto de Investigacion\\Documentation\\UC Davis\\Water Disaggregation Algorithm\\1. EDA and Data Processing\\resulting datasets\\INDOOR OUTDOOR DAILY/'+wadept[i]+'.csv', index=False)\n",
    "    column = []"
   ]
  },
  {
   "cell_type": "code",
   "execution_count": 264,
   "metadata": {},
   "outputs": [],
   "source": [
    "# INDOOR OUTDOOR HOURLY\n",
    "column = []\n",
    "for i in range(0,len(wadept)):\n",
    "    for j in range(0,len(hourly_indoor_outdoor_4)):\n",
    "        if hourly_indoor_outdoor_4.iloc[j,0]==wadept[i]:\n",
    "            column.append(hourly_indoor_outdoor_4.iloc[j,:])\n",
    "    pd.DataFrame(column).to_csv(r'G:\\My Drive\\MCI\\Proyecto de Investigacion\\Documentation\\UC Davis\\Water Disaggregation Algorithm\\1. EDA and Data Processing\\resulting datasets\\INDOOR OUTDOOR HOURLY/'+wadept[i]+'.csv', index=False)\n",
    "    column = []"
   ]
  },
  {
   "cell_type": "markdown",
   "metadata": {},
   "source": [
    "## Then we obtain the normalized hourly demand values."
   ]
  },
  {
   "cell_type": "code",
   "execution_count": 268,
   "metadata": {},
   "outputs": [],
   "source": [
    "wadept = ['Denver',\"Fort Collins\",\"Scottsdale\",\"San Antonio\"]\n",
    "# wadept = [\"Denver\"]\n",
    "column = []\n",
    "for i in range(0,len(wadept)):\n",
    "    hours = pd.read_csv(r'G:\\My Drive\\MCI\\Proyecto de Investigacion\\Documentation\\UC Davis\\Water Disaggregation Algorithm\\1. EDA and Data Processing\\resulting datasets\\INDOOR HOURLY/'+wadept[i]+'.csv')\n",
    "    for j in range(0,int(len(hours)/24)):\n",
    "        column = (np.array(hours.iloc[24*(0+j):24+24*j,-1]/hours.iloc[24*(0+j):24+24*j,-1].sum()))\n",
    "        df = pd.DataFrame(column)\n",
    "        df.columns=[wadept[i]]\n",
    "#         print(df)\n",
    "        df.to_csv(r'G:\\My Drive\\MCI\\Proyecto de Investigacion\\Documentation\\UC Davis\\Water Disaggregation Algorithm\\1. EDA and Data Processing\\resulting datasets\\INDOOR HOURLY\\SPLIT FILES/'+\"/\"+wadept[i]+\"/\"+wadept[i]+str(j)+'.csv',index=0)\n",
    "        column = []"
   ]
  },
  {
   "cell_type": "code",
   "execution_count": 265,
   "metadata": {},
   "outputs": [],
   "source": [
    "wadept = ['Denver',\"Fort Collins\",\"Scottsdale\",\"San Antonio\"]\n",
    "# wadept = [\"Denver\"]\n",
    "column = []\n",
    "for i in range(0,len(wadept)):\n",
    "    hours = pd.read_csv(r'G:\\My Drive\\MCI\\Proyecto de Investigacion\\Documentation\\UC Davis\\Water Disaggregation Algorithm\\1. EDA and Data Processing\\resulting datasets\\INDOOR OUTDOOR HOURLY/'+wadept[i]+'.csv')\n",
    "    for j in range(0,int(len(hours)/24)):\n",
    "        column = (np.array(hours.iloc[24*(0+j):24+24*j,-1]/hours.iloc[24*(0+j):24+24*j,-1].sum()))\n",
    "        df = pd.DataFrame(column)\n",
    "        df.columns=[wadept[i]]\n",
    "#         print(df)\n",
    "        df.to_csv(r'G:\\My Drive\\MCI\\Proyecto de Investigacion\\Documentation\\UC Davis\\Water Disaggregation Algorithm\\1. EDA and Data Processing\\resulting datasets\\INDOOR OUTDOOR HOURLY\\SPLIT FILES/'+\"/\"+wadept[i]+\"/\"+wadept[i]+str(j)+'.csv',index=0)\n",
    "        column = []"
   ]
  },
  {
   "cell_type": "markdown",
   "metadata": {},
   "source": [
    "# Section 2: *Pattern extraction*. This is performed by two Matlab scripts. "
   ]
  },
  {
   "cell_type": "markdown",
   "metadata": {},
   "source": [
    "### 1. Run the **\"pattern-extraction.mlx\"** script, and with its resulting files, run **\"coefficients.mlx\"**.\n",
    "### 2. With the plots from **\"coefficients.mlx\"**, get the *irrigation window* by contrasting the indoor, outdoor and total usage. \n",
    "### 3. Use the irrigation window for the optimization section."
   ]
  },
  {
   "cell_type": "markdown",
   "metadata": {},
   "source": [
    "# Section 3: *Optimization*. This is performed by several GAMS scripts."
   ]
  },
  {
   "cell_type": "markdown",
   "metadata": {},
   "source": [
    "### 1. Follow the instructions on the **\"Run Indoor-Outdoor OpModel.docx\"**.\n",
    "### 2. Use the generated datasets for the classification section."
   ]
  },
  {
   "cell_type": "markdown",
   "metadata": {},
   "source": [
    "# Section 4: *Classification*"
   ]
  },
  {
   "cell_type": "code",
   "execution_count": 269,
   "metadata": {},
   "outputs": [],
   "source": [
    "from sklearn.model_selection import cross_val_score\n",
    "from sklearn.naive_bayes import GaussianNB\n",
    "from sklearn.linear_model import LogisticRegression\n",
    "from sklearn.neighbors import KNeighborsClassifier\n",
    "from sklearn.tree import DecisionTreeClassifier\n",
    "from sklearn.svm import SVC\n",
    "from sklearn.ensemble import RandomForestClassifier\n",
    "from xgboost import XGBClassifier\n",
    "from sklearn.ensemble import AdaBoostClassifier\n",
    "from sklearn.ensemble import GradientBoostingClassifier\n",
    "from sklearn.model_selection import KFold\n",
    "\n",
    "from sklearn.metrics import confusion_matrix\n",
    "\n",
    "import warnings\n",
    "warnings.filterwarnings('ignore')"
   ]
  },
  {
   "cell_type": "code",
   "execution_count": 271,
   "metadata": {},
   "outputs": [
    {
     "name": "stdout",
     "output_type": "stream",
     "text": [
      "             Hour       Label\n",
      "count  552.000000  552.000000\n",
      "mean    11.500000    3.166667\n",
      "std      6.928465    1.076617\n",
      "min      0.000000    1.000000\n",
      "25%      5.750000    2.000000\n",
      "50%     11.500000    4.000000\n",
      "75%     17.250000    4.000000\n",
      "max     23.000000    4.000000\n"
     ]
    }
   ],
   "source": [
    "main = pd.read_csv(r'G:\\My Drive\\MCI\\Proyecto de Investigacion\\Documentation\\UC Davis\\Water Disaggregation Algorithm\\4. Classification\\Hourly Data - ALL wadepts - labeled.csv')\n",
    "df = main[main['wadept'].str.match('Denver')]\n",
    "X = df.drop(['Keycode','Date','wadept'], axis=1)\n",
    "Y = df.iloc[:,4]\n",
    "print(X.describe())"
   ]
  },
  {
   "cell_type": "code",
   "execution_count": 273,
   "metadata": {},
   "outputs": [
    {
     "name": "stdout",
     "output_type": "stream",
     "text": [
      "------------------------------\n",
      "Denver models appended...\n",
      "(386, 2)\n",
      "(166, 2)\n",
      "Accuracy per method:\n",
      "Logistic Regression: 99.48043184885289\n",
      "Naive Bayes: 100.0\n",
      "K-Nearest Neighbour: 95.85695006747639\n",
      "Decision Tree: 100.0\n",
      "Support Vector Machine-linear: 100.0\n",
      "Support Vector Machine-rbf: 82.6450742240216\n",
      "Random Forest: 98.9608636977058\n",
      "eXtreme Gradient Boost: 100.0\n",
      "AdaBoostClassifier: 89.35897435897436\n",
      "GradientBoostingClassifier: 100.0\n",
      "------------------------------\n",
      "Fort Collins models appended...\n",
      "(4687, 2)\n",
      "(2009, 2)\n",
      "Accuracy per method:\n",
      "Logistic Regression: 100.0\n",
      "Naive Bayes: 100.0\n",
      "K-Nearest Neighbour: 99.91471215351811\n",
      "Decision Tree: 100.0\n",
      "Support Vector Machine-linear: 100.0\n",
      "Support Vector Machine-rbf: 100.0\n",
      "Random Forest: 100.0\n",
      "eXtreme Gradient Boost: 100.0\n",
      "AdaBoostClassifier: 91.35886501558144\n",
      "GradientBoostingClassifier: 100.0\n",
      "------------------------------\n",
      "Scottsdale models appended...\n",
      "(3175, 2)\n",
      "(1361, 2)\n",
      "Accuracy per method:\n",
      "Logistic Regression: 100.0\n",
      "Naive Bayes: 100.0\n",
      "K-Nearest Neighbour: 99.84256889470865\n",
      "Decision Tree: 100.0\n",
      "Support Vector Machine-linear: 100.0\n",
      "Support Vector Machine-rbf: 99.49626014324544\n",
      "Random Forest: 99.96845425867508\n",
      "eXtreme Gradient Boost: 100.0\n",
      "AdaBoostClassifier: 95.24413229371268\n",
      "GradientBoostingClassifier: 100.0\n",
      "------------------------------\n",
      "San Antonio models appended...\n",
      "(4082, 2)\n",
      "(1750, 2)\n",
      "Accuracy per method:\n",
      "Logistic Regression: 100.0\n",
      "Naive Bayes: 100.0\n",
      "K-Nearest Neighbour: 99.95098039215688\n",
      "Decision Tree: 100.0\n",
      "Support Vector Machine-linear: 100.0\n",
      "Support Vector Machine-rbf: 100.0\n",
      "Random Forest: 100.0\n",
      "eXtreme Gradient Boost: 100.0\n",
      "AdaBoostClassifier: 87.60481087300445\n",
      "GradientBoostingClassifier: 100.0\n"
     ]
    }
   ],
   "source": [
    "wadept = [\"Denver\",\"Fort Collins\",\"Scottsdale\",\"San Antonio\"];\n",
    "for i in range(0,len(wadept)):\n",
    "    df = main[main['wadept'].str.match(wadept[i])]\n",
    "    X = df.drop(['Keycode','Date','wadept'], axis=1)\n",
    "    Y = df.iloc[:,4]\n",
    "    from sklearn.model_selection import train_test_split\n",
    "    X_train, X_test, Y_train, Y_test = train_test_split(X, Y, test_size=0.3, random_state=0)\n",
    "    \n",
    "    models = []\n",
    "\n",
    "    models.append((\"Logistic Regression:\",LogisticRegression()))\n",
    "    models.append((\"Naive Bayes:\",GaussianNB()))\n",
    "    models.append((\"K-Nearest Neighbour:\",KNeighborsClassifier(n_neighbors=3)))\n",
    "    models.append((\"Decision Tree:\",DecisionTreeClassifier()))\n",
    "    models.append((\"Support Vector Machine-linear:\",SVC(kernel=\"linear\")))\n",
    "    models.append((\"Support Vector Machine-rbf:\",SVC(kernel=\"rbf\")))\n",
    "    models.append((\"Random Forest:\",RandomForestClassifier(n_estimators=7)))\n",
    "    models.append((\"eXtreme Gradient Boost:\",XGBClassifier()))\n",
    "    models.append((\"AdaBoostClassifier:\",AdaBoostClassifier()))\n",
    "    models.append((\"GradientBoostingClassifier:\",GradientBoostingClassifier()))\n",
    "\n",
    "    print('------------------------------')\n",
    "    print(wadept[i]+' models appended...')\n",
    "    print(X_train.shape)\n",
    "    print(X_test.shape)\n",
    "    \n",
    "    results = []\n",
    "    names = []\n",
    "    from sklearn.metrics import classification_report\n",
    "\n",
    "    for name,model in models:\n",
    "        kfold = KFold(n_splits=10, random_state=None)\n",
    "        cv_result = cross_val_score(model,X_train,Y_train.values.ravel(), cv = kfold,scoring = \"accuracy\")\n",
    "        names.append(name)\n",
    "        results.append(cv_result)\n",
    "    \n",
    "    print('Accuracy per method:')\n",
    "    for i in range(len(names)):\n",
    "        print(names[i], results[i].mean()*100)"
   ]
  },
  {
   "cell_type": "markdown",
   "metadata": {},
   "source": [
    "### This accuracy metrics seem unconclusive. There are a lot of very high accuracies. This maybe due to the skewness of the data.\n",
    "\n",
    "### Let's take a look to the specific case of K-Nearest-Neighbors as it is: \n",
    "   - Fast training: It technically doesn't have a training step, it is very fast because it usually involves only storing the instances. The main computational cost of a nearest neighbor method is borne by the prediction/classification step, when the database must be queried to find nearest neighbors of a new instance.\n",
    "   - Easy to expand: Because of its instance-based learning nature, new training data can be introduced without problem.\n",
    "   - Versatility: It can be used to do classifications, probability estimations, and regressions\n",
    "   - But it is also:\n",
    "        - Intelligibility: This referes to difficulty of defining the acquired knowledge that has been mined from the KNN classification. This becomes very apparent when the model exists in more than 2 or 3 dimensions. \n",
    "        - Dimensionality and domain knowledge: First, there may be too many attributes. Then, the numeric attributes may have vastly different ranges, and unless they are scaled appropriately the effect of one attribute with a wide range can swamp the effect of another with a much smaller range.\n",
    "        - Computational efficiency: The prediction/classification step can be very computationally expensive, which is not ideal for quick and frequently used applications. \n",
    "\n",
    "### First we determine the number of neighbors K. "
   ]
  },
  {
   "cell_type": "code",
   "execution_count": 274,
   "metadata": {},
   "outputs": [],
   "source": [
    "from sklearn import model_selection\n",
    "\n",
    "from sklearn.metrics import classification_report\n",
    "from sklearn import metrics\n",
    "\n",
    "import matplotlib.pyplot as plt\n",
    "from matplotlib.ticker import NullFormatter\n",
    "import matplotlib.ticker as ticker\n",
    "%matplotlib inline"
   ]
  },
  {
   "cell_type": "code",
   "execution_count": 275,
   "metadata": {},
   "outputs": [
    {
     "data": {
      "image/png": "[encoded data removed]",
      "text/plain": [
       "<Figure size 720x432 with 1 Axes>"
      ]
     },
     "metadata": {
      "needs_background": "light"
     },
     "output_type": "display_data"
    },
    {
     "data": {
      "image/png": "[encoded data removed]",
      "text/plain": [
       "<Figure size 720x432 with 1 Axes>"
      ]
     },
     "metadata": {
      "needs_background": "light"
     },
     "output_type": "display_data"
    },
    {
     "data": {
      "image/png": "[encoded data removed]",
      "text/plain": [
       "<Figure size 720x432 with 1 Axes>"
      ]
     },
     "metadata": {
      "needs_background": "light"
     },
     "output_type": "display_data"
    },
    {
     "data": {
      "image/png": "[encoded data removed]",
      "text/plain": [
       "<Figure size 720x432 with 1 Axes>"
      ]
     },
     "metadata": {
      "needs_background": "light"
     },
     "output_type": "display_data"
    }
   ],
   "source": [
    "for i in range(0,len(wadept)):\n",
    "    df = main[main['wadept'].str.match(wadept[i])]\n",
    "    X = df.drop(['Keycode','Date','wadept'], axis=1)\n",
    "    Y = df.iloc[:,4]\n",
    "    \n",
    "    #Square root of the total number of samples in the test set. \n",
    "    limit = int(np.floor(np.sqrt(len(df)*0.33)))\n",
    "    \n",
    "    #Assure that limit is an odd number.\n",
    "    if limit%2==0:\n",
    "        limit=limit+1\n",
    "    \n",
    "    error_rate = []\n",
    "    acc = []\n",
    "    \n",
    "    test_size = 0.33\n",
    "    seed = 7\n",
    "    for j in range(1, limit):\n",
    "        X_train, X_test, Y_train, Y_test = model_selection.train_test_split(X, Y, test_size=test_size, random_state=seed)\n",
    "        model = KNeighborsClassifier(n_neighbors=j)\n",
    "        model.fit(X_train, Y_train)\n",
    "        predicted = model.predict(X_test)\n",
    "        \n",
    "        #accuracy\n",
    "        acc.append(metrics.accuracy_score(Y_test, predicted))\n",
    "    \n",
    "    #plot accuracy\n",
    "    plt.figure(figsize=(10,6))\n",
    "    plt.plot(range(1,limit), acc, color = 'blue', linestyle='dashed', \n",
    "             marker='o', markerfacecolor='red', markersize=10)\n",
    "    plt.title('Accuracy vs. K Value: ' + wadept[i], fontsize=20)\n",
    "    plt.xlabel('K')\n",
    "    plt.ylabel('Accuracy')\n",
    "    plt.savefig(r'C:\\Users\\rodcan\\Documents\\Proyecto de Investigacion\\UC Davis\\Indoor Water Disaggregation Data\\mining\\resources\\Algorithms\\classification\\k-parameter\\acc vs. k/'+ wadept[i])\n",
    "#     print(\"Maximum accuracy:-\", max(acc), \"at K =\", acc.index(max(acc)))"
   ]
  },
  {
   "cell_type": "markdown",
   "metadata": {},
   "source": [
    "### A K number equals to the square root of the total number of samples in the test set was decided. "
   ]
  },
  {
   "cell_type": "code",
   "execution_count": 276,
   "metadata": {},
   "outputs": [
    {
     "name": "stdout",
     "output_type": "stream",
     "text": [
      "Denver -----------------------------------------\n",
      "K number: 13\n",
      "              precision    recall  f1-score   support\n",
      "\n",
      "           1       0.94      0.76      0.84        21\n",
      "           2       0.82      0.97      0.89        34\n",
      "           3       1.00      0.64      0.78        25\n",
      "           4       0.94      1.00      0.97       103\n",
      "\n",
      "    accuracy                           0.92       183\n",
      "   macro avg       0.93      0.84      0.87       183\n",
      "weighted avg       0.92      0.92      0.91       183\n",
      "\n",
      "Confusion matrix:\n",
      "[[ 16   5   0   0]\n",
      " [  1  33   0   0]\n",
      " [  0   2  16   7]\n",
      " [  0   0   0 103]]\n",
      "\n",
      "\n",
      "Fort Collins -----------------------------------------\n",
      "K number: 47\n",
      "              precision    recall  f1-score   support\n",
      "\n",
      "           1       0.92      1.00      0.96       781\n",
      "           2       1.00      0.67      0.80       214\n",
      "           3       0.98      0.94      0.96       248\n",
      "           4       0.98      1.00      0.99       967\n",
      "\n",
      "    accuracy                           0.96      2210\n",
      "   macro avg       0.97      0.90      0.93      2210\n",
      "weighted avg       0.96      0.96      0.96      2210\n",
      "\n",
      "Confusion matrix:\n",
      "[[781   0   0   0]\n",
      " [ 65 144   5   0]\n",
      " [  0   0 233  15]\n",
      " [  0   0   0 967]]\n",
      "\n",
      "\n",
      "Scottsdale -----------------------------------------\n",
      "K number: 39\n",
      "              precision    recall  f1-score   support\n",
      "\n",
      "           1       0.93      1.00      0.97       440\n",
      "           2       1.00      0.53      0.69        74\n",
      "           3       0.96      0.84      0.89       110\n",
      "           4       0.98      1.00      0.99       873\n",
      "\n",
      "    accuracy                           0.96      1497\n",
      "   macro avg       0.97      0.84      0.88      1497\n",
      "weighted avg       0.97      0.96      0.96      1497\n",
      "\n",
      "Confusion matrix:\n",
      "[[440   0   0   0]\n",
      " [ 31  39   4   0]\n",
      " [  0   0  92  18]\n",
      " [  0   0   0 873]]\n",
      "\n",
      "\n",
      "San Antonio -----------------------------------------\n",
      "K number: 43\n",
      "              precision    recall  f1-score   support\n",
      "\n",
      "           1       1.00      0.94      0.97       298\n",
      "           2       0.95      1.00      0.98       566\n",
      "           3       1.00      0.88      0.94       233\n",
      "           4       0.98      1.00      0.99       828\n",
      "\n",
      "    accuracy                           0.98      1925\n",
      "   macro avg       0.98      0.96      0.97      1925\n",
      "weighted avg       0.98      0.98      0.98      1925\n",
      "\n",
      "Confusion matrix:\n",
      "[[281  17   0   0]\n",
      " [  0 566   0   0]\n",
      " [  0  12 205  16]\n",
      " [  0   0   0 828]]\n",
      "\n",
      "\n"
     ]
    }
   ],
   "source": [
    "for i in range(0,len(wadept)):\n",
    "    df = main[main['wadept'].str.match(wadept[i])]\n",
    "    X = df.drop(['Keycode','Date','wadept'], axis=1)\n",
    "    Y = df.iloc[:,4]\n",
    "    \n",
    "    #Square root of the total number of samples in the test set. \n",
    "    limit = int(np.floor(np.sqrt(len(df)*0.33)))\n",
    "    \n",
    "    #Assure that limit is an odd number.\n",
    "    if limit%2==0:\n",
    "        limit=limit+1\n",
    "    \n",
    "    error_rate = []\n",
    "    acc = []\n",
    "    \n",
    "    test_size = 0.33\n",
    "    seed = 7\n",
    "    X_train, X_test, Y_train, Y_test = model_selection.train_test_split(X, Y, test_size=test_size, random_state=seed)\n",
    "    model = KNeighborsClassifier(n_neighbors=limit)\n",
    "    model.fit(X_train, Y_train)\n",
    "    predicted = model.predict(X_test)\n",
    "\n",
    "    p2=model.predict_proba(X_train)\n",
    "    report = classification_report(Y_test, predicted)\n",
    "    con = confusion_matrix(Y_test, predicted)\n",
    "    print(wadept[i],\"-----------------------------------------\")\n",
    "    print('K number: '+str(limit))\n",
    "    print(report)\n",
    "    print('Confusion matrix:')\n",
    "    print(con)\n",
    "    print('\\n')"
   ]
  },
  {
   "cell_type": "markdown",
   "metadata": {},
   "source": [
    "### As it can be seen, the diagonal of the confusion matrix is most populated. This means that the class predicitions where accurate."
   ]
  },
  {
   "cell_type": "code",
   "execution_count": null,
   "metadata": {},
   "outputs": [],
   "source": []
  }
 ],
 "metadata": {
  "kernelspec": {
   "display_name": "Python 3",
   "language": "python",
   "name": "python3"
  },
  "language_info": {
   "codemirror_mode": {
    "name": "ipython",
    "version": 3
   },
   "file_extension": ".py",
   "mimetype": "text/x-python",
   "name": "python",
   "nbconvert_exporter": "python",
   "pygments_lexer": "ipython3",
   "version": "3.7.10"
  }
 },
 "nbformat": 4,
 "nbformat_minor": 4
}
